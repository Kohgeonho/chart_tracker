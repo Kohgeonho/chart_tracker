{
 "cells": [
  {
   "cell_type": "code",
   "execution_count": 1,
   "id": "732e3976",
   "metadata": {},
   "outputs": [],
   "source": [
    "import selenium.webdriver as webdriver\n",
    "from bs4 import BeautifulSoup\n",
    "from pyvirtualdisplay import Display\n",
    "from time import sleep\n",
    "import datetime\n",
    "\n",
    "import pandas as pd\n",
    "from tqdm import tqdm"
   ]
  },
  {
   "cell_type": "code",
   "execution_count": 2,
   "id": "ff8f6b33",
   "metadata": {},
   "outputs": [
    {
     "data": {
      "text/plain": [
       "<pyvirtualdisplay.display.Display at 0x7f8e640f32e0>"
      ]
     },
     "execution_count": 2,
     "metadata": {},
     "output_type": "execute_result"
    }
   ],
   "source": [
    "display = Display(visible=0,size=(1024, 768))\n",
    "display.start()"
   ]
  },
  {
   "cell_type": "code",
   "execution_count": 3,
   "id": "429bfe54",
   "metadata": {},
   "outputs": [],
   "source": [
    "driver = webdriver.Chrome('/home/ubuntu/chromedriver')"
   ]
  },
  {
   "cell_type": "code",
   "execution_count": 4,
   "id": "b2de5825",
   "metadata": {},
   "outputs": [],
   "source": [
    "def get_table():\n",
    "    \n",
    "    def find_id(element):\n",
    "        return str(element)[25:33]\n",
    "    \n",
    "    def chart(n):\n",
    "        driver.get(f'https://www.genie.co.kr/chart/top200?pg={n}')\n",
    "        page = driver.page_source\n",
    "        soup = BeautifulSoup(page, 'lxml')\n",
    "        \n",
    "        table = soup.find(attrs={'class':'newest-list'}) \\\n",
    "                    .find_all('tr', attrs={'class':'list'})\n",
    "        \n",
    "        return [find_id(e) for e in table]\n",
    "        \n",
    "    return chart(1) + chart(2) + chart(3) + chart(4)"
   ]
  },
  {
   "cell_type": "code",
   "execution_count": 5,
   "id": "0a6950d1",
   "metadata": {},
   "outputs": [],
   "source": [
    "song_ids = get_table()"
   ]
  },
  {
   "cell_type": "code",
   "execution_count": 6,
   "id": "6e80afc3",
   "metadata": {},
   "outputs": [],
   "source": [
    "class song_page():\n",
    "    \n",
    "    def __init__(self, id):\n",
    "        self.id = id\n",
    "    \n",
    "    def get_page(self):\n",
    "        url = f\"https://www.genie.co.kr/detail/songInfo?xgnm={self.id}\"\n",
    "        self.url = url\n",
    "\n",
    "        driver.get(url)\n",
    "        song_page = driver.page_source\n",
    "        song_soup = BeautifulSoup(song_page, 'lxml')\n",
    "        self.soup = song_soup\n",
    "        \n",
    "    def get_name(self):\n",
    "        self.name = self.soup.find('h2',attrs={'class':'name'}).text.strip()\n",
    "\n",
    "    def get_values(self):\n",
    "        values = self.soup.find('ul',attrs={'class':'info-data'}) \\\n",
    "                          .find_all(attrs={'class':'value'})\n",
    "        self.artist    = values[0].text\n",
    "        self.album     = values[1].text\n",
    "        self.genre     = values[2].text\n",
    "        self.playtime  = values[3].text\n",
    "        #self.lyricists = values[4].text\n",
    "        #self.composers = values[5].text\n",
    "        #self.arrangers = values[6].text\n",
    "\n",
    "    def get_likes(self):\n",
    "        self.likes = self.soup.find('em',attrs={'id':'emLikeCount'}).text\n",
    "\n",
    "    def get_totals(self):\n",
    "        counts = self.soup.find('div', attrs={'class':'total'}) \\\n",
    "                     .find_all('div')\n",
    "        self.listners = counts[0].text.strip()\n",
    "        self.numplays = counts[1].text.strip()\n",
    "        \n",
    "    def get_comments(self):\n",
    "        self.comments = self.soup.find('span', attrs={'class':'article'}).text\n",
    "\n",
    "    def get_now(self):\n",
    "        self.now = datetime.datetime.now()\n",
    "\n",
    "    def set_attributes(self):\n",
    "        self.get_page()\n",
    "\n",
    "        self.get_name()\n",
    "        self.get_values()\n",
    "        self.get_likes()\n",
    "        self.get_totals()\n",
    "        self.get_comments()\n",
    "        self.get_now()\n",
    "\n",
    "    def get_attributes(self):\n",
    "        return (self.id, self.name,self.artist,self.album,self.genre,self.playtime,\n",
    "                 #self.lyricists,self.composers,self.arrangers,\n",
    "                 self.likes,\n",
    "                 self.listners,self.numplays,\n",
    "                 self.comments,\n",
    "                 self.now)"
   ]
  },
  {
   "cell_type": "markdown",
   "id": "2b8bd96c",
   "metadata": {},
   "source": [
    "### 곡 하나에 대해서 실험"
   ]
  },
  {
   "cell_type": "code",
   "execution_count": 7,
   "id": "088d8661",
   "metadata": {},
   "outputs": [
    {
     "data": {
      "text/plain": [
       "('90705547',\n",
       " 'Dynamite',\n",
       " '방탄소년단',\n",
       " 'Dynamite (DayTime Ver.)',\n",
       " '가요 / 댄스',\n",
       " '03:19',\n",
       " '89,413',\n",
       " '2,408,868',\n",
       " '109,881,819',\n",
       " '(총 2489개)',\n",
       " datetime.datetime(2021, 7, 8, 4, 1, 45, 419356))"
      ]
     },
     "execution_count": 7,
     "metadata": {},
     "output_type": "execute_result"
    }
   ],
   "source": [
    "first_song = song_page('90705547')\n",
    "first_song.set_attributes()\n",
    "first_song.get_attributes()"
   ]
  },
  {
   "cell_type": "markdown",
   "id": "182b6cc4",
   "metadata": {},
   "source": [
    "### 모든 곡에 대해 적용"
   ]
  },
  {
   "cell_type": "code",
   "execution_count": null,
   "id": "236f9ad7",
   "metadata": {},
   "outputs": [
    {
     "name": "stderr",
     "output_type": "stream",
     "text": [
      " 37%|███▋      | 74/200 [01:05<01:51,  1.13it/s]"
     ]
    }
   ],
   "source": [
    "song_info = []\n",
    "\n",
    "for sid in tqdm(song_ids):\n",
    "    song = song_page(sid)\n",
    "    song.set_attributes()\n",
    "    song_info.append(song.get_attributes())"
   ]
  },
  {
   "cell_type": "code",
   "execution_count": null,
   "id": "e8298cb6",
   "metadata": {},
   "outputs": [],
   "source": [
    "Songs = pd.DataFrame(song_info, \n",
    "                     columns = ['id',\n",
    "                                'name','artist','album','genre','playtime',\n",
    "                                #'lyricists','composer','arranger',\n",
    "                                'likes',\n",
    "                                'listners','numplays',\n",
    "                                'comments',\n",
    "                                'time(now)'])"
   ]
  },
  {
   "cell_type": "code",
   "execution_count": null,
   "id": "69d04b1e",
   "metadata": {},
   "outputs": [],
   "source": [
    "Songs"
   ]
  },
  {
   "cell_type": "code",
   "execution_count": null,
   "id": "4a44c31b",
   "metadata": {},
   "outputs": [],
   "source": [
    "Songs.info()"
   ]
  },
  {
   "cell_type": "code",
   "execution_count": null,
   "id": "a0eac975",
   "metadata": {},
   "outputs": [],
   "source": [
    "#driver.quit()\n",
    "#display.stop()"
   ]
  }
 ],
 "metadata": {
  "kernelspec": {
   "display_name": "Python 3 (ipykernel)",
   "language": "python",
   "name": "python3"
  },
  "language_info": {
   "codemirror_mode": {
    "name": "ipython",
    "version": 3
   },
   "file_extension": ".py",
   "mimetype": "text/x-python",
   "name": "python",
   "nbconvert_exporter": "python",
   "pygments_lexer": "ipython3",
   "version": "3.8.10"
  }
 },
 "nbformat": 4,
 "nbformat_minor": 5
}
