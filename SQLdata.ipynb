{
 "cells": [
  {
   "cell_type": "code",
   "execution_count": 1,
   "id": "404a06bc",
   "metadata": {},
   "outputs": [],
   "source": [
    "from attributes import *\n",
    "import mysql.connector"
   ]
  },
  {
   "cell_type": "code",
   "execution_count": 2,
   "id": "5c1b6a4e",
   "metadata": {},
   "outputs": [],
   "source": [
    "chartdb = mysql.connector.connect(\n",
    "    host = \"songdb.ck45skw5jvl2.ap-northeast-2.rds.amazonaws.com\",\n",
    "    user = \"geonho_sojeong\",\n",
    "    password = \"geonho&sojeong\",\n",
    "    database = \"chart\"\n",
    ")\n",
    "\n",
    "cursor = chartdb.cursor()"
   ]
  },
  {
   "cell_type": "markdown",
   "id": "e1266eec",
   "metadata": {},
   "source": [
    "## Table 추가(한 번만 실행하면 됨)"
   ]
  },
  {
   "cell_type": "code",
   "execution_count": 22,
   "id": "2ead4f7b",
   "metadata": {},
   "outputs": [],
   "source": [
    "# cursor.execute('''\n",
    "#     CREATE TABLE Song(\n",
    "#         sid           CHAR(8),\n",
    "#         name          VARCHAR(256),\n",
    "#         genre         VARCHAR(256),\n",
    "#         playtime      TIME,\n",
    "        \n",
    "#         PRIMARY KEY   (sid))\n",
    "# ''')"
   ]
  },
  {
   "cell_type": "code",
   "execution_count": 20,
   "id": "589249e8",
   "metadata": {},
   "outputs": [],
   "source": [
    "# cursor.execute('''\n",
    "#     CREATE TABLE Time(\n",
    "#         sid           CHAR(8),\n",
    "#         currentTime   DATETIME,\n",
    "#         ranking       INT,\n",
    "#         numPlays      INT,\n",
    "#         likes         INT,\n",
    "#         listeners     INT,\n",
    "#         comments      INT,\n",
    "        \n",
    "#         PRIMARY KEY   (sid, currentTime))   \n",
    "# ''')"
   ]
  },
  {
   "cell_type": "code",
   "execution_count": 24,
   "id": "e678c719",
   "metadata": {},
   "outputs": [],
   "source": [
    "# cursor.execute('''\n",
    "#     CREATE TABLE Album(\n",
    "#         aid           CHAR(8),\n",
    "#         name          VARCHAR(256),\n",
    "#         agency        VARCHAR(256),\n",
    "#         releasedDate  DATE,\n",
    "#         genre         VARCHAR(256),\n",
    "#         style         VARCHAR(10),\n",
    "        \n",
    "#         PRIMARY KEY   (aid))\n",
    "# ''')"
   ]
  },
  {
   "cell_type": "code",
   "execution_count": 25,
   "id": "1dd5af98",
   "metadata": {},
   "outputs": [],
   "source": [
    "# cursor.execute('''\n",
    "#     CREATE TABLE Musician(\n",
    "#         mid           CHAR(8),\n",
    "#         name          VARCHAR(256),\n",
    "#         debutDate     DATE,\n",
    "#         nationality   VARCHAR(256),\n",
    "        \n",
    "#         PRIMARY KEY   (mid))\n",
    "# ''')"
   ]
  },
  {
   "cell_type": "code",
   "execution_count": 26,
   "id": "2881de5b",
   "metadata": {},
   "outputs": [],
   "source": [
    "# cursor.execute('''\n",
    "#     CREATE TABLE Artist(\n",
    "#         mid           CHAR(8),\n",
    "#         name          VARCHAR(256),\n",
    "#         debutDate     DATE,\n",
    "#         nationality   VARCHAR(256),\n",
    "#         gender        VARCHAR(10),\n",
    "#         type          VARCHAR(10),\n",
    "        \n",
    "#         PRIMARY KEY   (mid))\n",
    "# ''')"
   ]
  },
  {
   "cell_type": "code",
   "execution_count": 27,
   "id": "69cd3b98",
   "metadata": {},
   "outputs": [],
   "source": [
    "# cursor.execute('''\n",
    "#     CREATE TABLE Sing(\n",
    "#         mid           CHAR(8),\n",
    "#         sid           CHAR(8),\n",
    "\n",
    "#         FOREIGN KEY(sid) REFERENCES Song(sid)   ON UPDATE CASCADE ON DELETE CASCADE,\n",
    "#         FOREIGN KEY(mid) REFERENCES Artist(mid) ON UPDATE CASCADE ON DELETE CASCADE)\n",
    "# ''')"
   ]
  },
  {
   "cell_type": "code",
   "execution_count": 28,
   "id": "982a887d",
   "metadata": {},
   "outputs": [],
   "source": [
    "# cursor.execute('''\n",
    "#     CREATE TABLE ComposedBy(\n",
    "#         sid           CHAR(8),\n",
    "#         mid           CHAR(8),\n",
    "        \n",
    "#         FOREIGN KEY(sid) REFERENCES Song(sid)     ON UPDATE CASCADE ON DELETE CASCADE,\n",
    "#         FOREIGN KEY(mid) REFERENCES Musician(mid) ON UPDATE CASCADE ON DELETE CASCADE)\n",
    "# ''')"
   ]
  },
  {
   "cell_type": "code",
   "execution_count": 29,
   "id": "396874c5",
   "metadata": {},
   "outputs": [],
   "source": [
    "# cursor.execute('''\n",
    "#     CREATE TABLE WrittenBy(\n",
    "#         sid           CHAR(8),\n",
    "#         mid           CHAR(8),\n",
    "        \n",
    "#         FOREIGN KEY(sid) REFERENCES Song(sid)     ON UPDATE CASCADE ON DELETE CASCADE,\n",
    "#         FOREIGN KEY(mid) REFERENCES Musician(mid) ON UPDATE CASCADE ON DELETE CASCADE)\n",
    "# ''')"
   ]
  },
  {
   "cell_type": "code",
   "execution_count": 30,
   "id": "faf2b7dc",
   "metadata": {},
   "outputs": [],
   "source": [
    "# cursor.execute('''\n",
    "#     CREATE TABLE ArrangedBy(\n",
    "#         sid           CHAR(8),\n",
    "#         mid           CHAR(8),\n",
    "        \n",
    "#         FOREIGN KEY(sid) REFERENCES Song(sid)     ON UPDATE CASCADE ON DELETE CASCADE,\n",
    "#         FOREIGN KEY(mid) REFERENCES Musician(mid) ON UPDATE CASCADE ON DELETE CASCADE)\n",
    "# ''')"
   ]
  },
  {
   "cell_type": "code",
   "execution_count": 33,
   "id": "ebc5dbde",
   "metadata": {},
   "outputs": [],
   "source": [
    "# cursor.execute('''\n",
    "#     CREATE TABLE Contain(\n",
    "#         aid           CHAR(8),\n",
    "#         sid           CHAR(8),\n",
    "#         isTitle       BOOLEAN,\n",
    "        \n",
    "#         FOREIGN KEY(aid) REFERENCES Album(aid)  ON UPDATE CASCADE ON DELETE CASCADE)\n",
    "# ''')"
   ]
  },
  {
   "cell_type": "markdown",
   "id": "5cb408f9",
   "metadata": {},
   "source": [
    "## Crawling Data를 SQL에 저장"
   ]
  },
  {
   "cell_type": "code",
   "execution_count": 3,
   "id": "8b5a71e5",
   "metadata": {},
   "outputs": [],
   "source": [
    "def truncate_all():\n",
    "    cursor.execute(\"SET FOREIGN_KEY_CHECKS = 0;\")\n",
    "    \n",
    "    cursor.execute(\"TRUNCATE TABLE Time;\")\n",
    "    cursor.execute(\"TRUNCATE TABLE Song;\")\n",
    "    cursor.execute(\"TRUNCATE TABLE Artist;\")\n",
    "    cursor.execute(\"TRUNCATE TABLE Musician;\")\n",
    "    cursor.execute(\"TRUNCATE TABLE Album;\")\n",
    "    \n",
    "    cursor.execute(\"TRUNCATE TABLE Sing;\")\n",
    "    cursor.execute(\"TRUNCATE TABLE WrittenBy;\")\n",
    "    cursor.execute(\"TRUNCATE TABLE ComposedBy;\")\n",
    "    cursor.execute(\"TRUNCATE TABLE ArrangedBy;\")\n",
    "    cursor.execute(\"TRUNCATE TABLE Contain;\")\n",
    "    cursor.execute(\"SET FOREIGN_KEY_CHECKS = 1;\")\n",
    "    \n",
    "    cursor.execute(\"SELECT * FROM Time;\")\n",
    "    cursor.fetchall()"
   ]
  },
  {
   "cell_type": "code",
   "execution_count": 4,
   "id": "eb3353bc",
   "metadata": {},
   "outputs": [],
   "source": [
    "song_ids = get_table()"
   ]
  },
  {
   "cell_type": "code",
   "execution_count": 5,
   "id": "4bd0aac6",
   "metadata": {},
   "outputs": [],
   "source": [
    "def exist(relation, attribute, key):\n",
    "    \n",
    "    fetch = f'''\n",
    "        SELECT  *\n",
    "        FROM    {relation} \n",
    "        WHERE   {attribute} = '{key}';\n",
    "    '''\n",
    "    \n",
    "    # print(fetch)\n",
    "    cursor.execute(fetch)\n",
    "    \n",
    "    if cursor.fetchall() == []:\n",
    "        return False\n",
    "    \n",
    "    return True"
   ]
  },
  {
   "cell_type": "code",
   "execution_count": 6,
   "id": "c09533f5",
   "metadata": {},
   "outputs": [],
   "source": [
    "def insert(relation, values):\n",
    "    sql = f'INSERT INTO {relation} VALUES '\n",
    "    val = str(values)\n",
    "    \n",
    "    # print(sql+val)\n",
    "    cursor.execute(sql + val)"
   ]
  },
  {
   "cell_type": "code",
   "execution_count": 12,
   "id": "ecb871b1",
   "metadata": {},
   "outputs": [],
   "source": [
    "def saveArtist(sid, mid):\n",
    "    if not exist('Artist', 'mid', mid):\n",
    "        artist = musician_page(mid)\n",
    "        artist.set_attributes()\n",
    "        \n",
    "        insert('Artist', artist.get_attributes())\n",
    "                \n",
    "    insert('Sing', (mid, sid))"
   ]
  },
  {
   "cell_type": "code",
   "execution_count": 8,
   "id": "88c251a2",
   "metadata": {},
   "outputs": [],
   "source": [
    "def saveMusician(sid, mid, cls):\n",
    "    if not exist('Musician', 'mid', mid):\n",
    "        musician = musician_page(mid)\n",
    "        musician.set_attributes()\n",
    "                \n",
    "        insert('Musician', musician.get_attributes()[:4])   \n",
    "        \n",
    "    related_attrs = {'Lyricist' : 'WrittenBy',\n",
    "                     'Composer' : 'ComposedBy',\n",
    "                     'Arranger' : 'ArrangedBy'}\n",
    "    \n",
    "    insert(related_attrs[cls], (sid, mid))"
   ]
  },
  {
   "cell_type": "code",
   "execution_count": 9,
   "id": "dd151feb",
   "metadata": {},
   "outputs": [],
   "source": [
    "def saveAlbum(sid, aid):\n",
    "    if not exist('Album', 'aid', aid):\n",
    "        album = album_page(aid)\n",
    "        album.set_attributes()\n",
    "        \n",
    "        insert('Album', album.get_attributes())\n",
    "        for track, title in album.tracks:\n",
    "            istitle = True if title == 'Title' else False\n",
    "            insert('Contain', (aid, track, istitle))"
   ]
  },
  {
   "cell_type": "code",
   "execution_count": 10,
   "id": "bcf57bb0",
   "metadata": {},
   "outputs": [],
   "source": [
    "def saveSong(sid):\n",
    "    if not exist('Song', 'sid', sid):\n",
    "        insert('Song', song.get_attributes())\n",
    "                \n",
    "        saveArtist(sid, song.artist)\n",
    "        saveAlbum(sid, song.album)\n",
    "        \n",
    "        if not song.lyricists == 'NULL':\n",
    "            for mid in song.lyricists:\n",
    "                saveMusician(sid, mid, cls='Lyricist')\n",
    "        if not song.composers == 'NULL':\n",
    "            for mid in song.composers:\n",
    "                saveMusician(sid, mid, cls='Composer')\n",
    "        if not song.arrangers == 'NULL':\n",
    "            for mid in song.arrangers:\n",
    "                saveMusician(sid, mid, cls='Arranger')\n",
    "                        \n",
    "        "
   ]
  },
  {
   "cell_type": "code",
   "execution_count": 11,
   "id": "77639490",
   "metadata": {},
   "outputs": [
    {
     "name": "stderr",
     "output_type": "stream",
     "text": [
      "100%|██████████| 200/200 [14:57<00:00,  4.49s/it]\n"
     ]
    }
   ],
   "source": [
    "for rank, sid in enumerate(tqdm(song_ids)):\n",
    "        \n",
    "    song = song_page(sid, rank + 1)\n",
    "    song.set_attributes()\n",
    "    \n",
    "    insert('Time', song.time_attributes())\n",
    "    saveSong(sid)\n",
    "    chartdb.commit()"
   ]
  },
  {
   "cell_type": "markdown",
   "id": "fb283326",
   "metadata": {},
   "source": [
    "### 곡 하나에 대해 test"
   ]
  },
  {
   "cell_type": "code",
   "execution_count": 15,
   "id": "bbdbcc58",
   "metadata": {},
   "outputs": [],
   "source": [
    "truncate_all()\n",
    "chartdb.commit()"
   ]
  },
  {
   "cell_type": "code",
   "execution_count": 10,
   "id": "d6026d28",
   "metadata": {},
   "outputs": [],
   "source": [
    "truncate_all()\n",
    "\n",
    "sid = 93578553\n",
    "\n",
    "song = song_page(sid, 1)\n",
    "song.set_attributes()\n",
    "\n",
    "insert('Time', song.time_attributes())\n",
    "saveSong(sid)\n",
    "chartdb.commit()"
   ]
  },
  {
   "cell_type": "code",
   "execution_count": null,
   "id": "6bedaeb9",
   "metadata": {},
   "outputs": [],
   "source": []
  },
  {
   "cell_type": "code",
   "execution_count": 13,
   "id": "07004997",
   "metadata": {},
   "outputs": [
    {
     "data": {
      "text/plain": [
       "<pyvirtualdisplay.display.Display at 0x7fb09010ea60>"
      ]
     },
     "execution_count": 13,
     "metadata": {},
     "output_type": "execute_result"
    }
   ],
   "source": [
    "driver.quit()\n",
    "display.stop()"
   ]
  },
  {
   "cell_type": "code",
   "execution_count": null,
   "id": "8305cf25",
   "metadata": {},
   "outputs": [],
   "source": []
  }
 ],
 "metadata": {
  "kernelspec": {
   "display_name": "Python 3 (ipykernel)",
   "language": "python",
   "name": "python3"
  },
  "language_info": {
   "codemirror_mode": {
    "name": "ipython",
    "version": 3
   },
   "file_extension": ".py",
   "mimetype": "text/x-python",
   "name": "python",
   "nbconvert_exporter": "python",
   "pygments_lexer": "ipython3",
   "version": "3.8.10"
  }
 },
 "nbformat": 4,
 "nbformat_minor": 5
}
