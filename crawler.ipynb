{
 "metadata": {
  "language_info": {
   "codemirror_mode": {
    "name": "ipython",
    "version": 3
   },
   "file_extension": ".py",
   "mimetype": "text/x-python",
   "name": "python",
   "nbconvert_exporter": "python",
   "pygments_lexer": "ipython3",
   "version": "3.8.5"
  },
  "orig_nbformat": 4,
  "kernelspec": {
   "name": "python3",
   "display_name": "Python 3.8.5 64-bit ('base': conda)"
  },
  "interpreter": {
   "hash": "8235b21b7e4ccb1a631c75a86bc50b1a38dfb6faace30e871c40999987116d9b"
  }
 },
 "nbformat": 4,
 "nbformat_minor": 2,
 "cells": [
  {
   "cell_type": "code",
   "execution_count": 46,
   "metadata": {},
   "outputs": [],
   "source": [
    "import requests\n",
    "from bs4 import BeautifulSoup"
   ]
  },
  {
   "cell_type": "code",
   "execution_count": 47,
   "metadata": {},
   "outputs": [],
   "source": [
    "import pandas"
   ]
  },
  {
   "cell_type": "code",
   "execution_count": 48,
   "metadata": {
    "tags": []
   },
   "outputs": [],
   "source": [
    "url = \"https://www.melon.com/chart/index.htm\"\n",
    "headers = {'user-agent': \"Mozilla/5.0 (Macintosh; Intel Mac OS X 10_15_7) AppleWebKit/605.1.15 (KHTML, like Gecko) Version/14.1.1 Safari/605.1.15\"}\n",
    "\n",
    "r = requests.get(url, headers=headers)\n",
    "soup = BeautifulSoup(r.text, 'html.parser')"
   ]
  },
  {
   "cell_type": "code",
   "execution_count": 49,
   "metadata": {},
   "outputs": [],
   "source": [
    "titles = soup.find_all(\"div\", {\"class\": \"ellipsis rank01\"}) \n",
    "singers = soup.find_all(\"div\", {\"class\": \"ellipsis rank02\"}) \n",
    "albums = soup.find_all(\"div\", {\"class\": \"ellipsis rank03\"})"
   ]
  },
  {
   "cell_type": "code",
   "execution_count": 50,
   "metadata": {},
   "outputs": [
    {
     "output_type": "stream",
     "name": "stdout",
     "text": [
      "바라만 본다 MSG워너비(M.O.M) MSG워너비 1집\n나를 아는 사람 MSG워너비(정상동기) MSG워너비 1집\nNext Level aespa Next Level\nButter 방탄소년단 Butter\n헤픈 우연 헤이즈 (Heize) HAPPEN\n치맛바람 (Chi Mat Ba Ram) 브레이브걸스 Summer Queen\nDun Dun Dance 오마이걸 (OH MY GIRL) Dear OHMYGIRL\nPeaches (Feat. Daniel Caesar & Giveon) Justin Bieber Justice\n롤린 (Rollin') 브레이브걸스 Rollin'\nAlcohol-Free TWICE (트와이스) Taste of Love\nASAP STAYC(스테이씨) STAYDOM\n라일락 아이유 IU 5th Album 'LILAC'\n운전만해 (We Ride) 브레이브걸스 We Ride\nDynamite 방탄소년단 Dynamite (DayTime Version)\n안녕 (Hello) 조이 (JOY) 안녕 (Hello) - Special Album\nCelebrity 아이유 IU 5th Album 'LILAC'\n상상더하기 MSG워너비 TOP 8 (별루지, 김정수, 강창모, 정기석, 이동휘, 이상이, 박재정, 원슈타인) MSG워너비 TOP 8 경연곡\n신호등 이무진 신호등\n비와 당신 이무진 슬기로운 의사생활 시즌2 OST Part 1\n사이렌 Remix (Feat. UNEDUCATED KID, Paul Blanco) 호미들 사이렌 Remix\nTimeless SG 워너비 Sg Wanna Be+\n상상더하기 라붐 (LABOUM) Fresh Adventure\n내 손을 잡아 아이유 최고의 사랑 OST Part.4\n멜로디 ASH ISLAND 멜로디\n밝게 빛나는 별이 되어 비춰줄게 송이한 밝게 빛나는 별이 되어 비춰줄게\n마.피.아. In the morning ITZY (있지) GUESS WHO\n라라라 SG 워너비 My Friend\n밤하늘의 별을(2020) 경서 밤하늘의 별을(2020)\nLOVE DAY (2021) (바른연애 길잡이 X 양요섭, 정은지) 양요섭, 정은지 LOVE DAY (2021) (바른연애 길잡이 X 양요섭, 정은지)\nSavage Love (Laxed - Siren Beat) (BTS Remix) Jawsh 685, Jason Derulo, 방탄소년단 Savage Love (Laxed - Siren Beat) [BTS Remix]\nLovesick Girls BLACKPINK THE ALBUM\n하루만 더 빅마마 하루만 더\n잠이 오질 않네요 장범준 잠이 오질 않네요\nCoin 아이유 IU 5th Album 'LILAC'\nDolphin 오마이걸 (OH MY GIRL) NONSTOP\n내사람 SG 워너비 The Precious History\n에잇(Prod.&Feat. SUGA of BTS) 아이유 에잇\n취기를 빌려 (취향저격 그녀 X 산들) 산들 취기를 빌려 (취향저격 그녀 X 산들)\nBlueming 아이유 Love poem\n작은 것들을 위한 시 (Boy With Luv) (Feat. Halsey) 방탄소년단 MAP OF THE SOUL : PERSONA\n추억은 만남보다 이별에 남아 정동하 추억은 만남보다 이별에 남아\n어떻게 이별까지 사랑하겠어, 널 사랑하는 거지 AKMU (악동뮤지션) 항해\nOn The Ground 로제 (ROSÉ) R\n허리춤 오반 (OVAN) 허리춤\nOff My Face Justin Bieber Justice\n어푸 (Ah puh) 아이유 IU 5th Album 'LILAC'\nVVS (Feat. JUSTHIS) (Prod. GroovyRoom) 미란이 (Mirani), 먼치맨(MUNCHMAN), Khundi Panda, 머쉬베놈 (MUSHVENOM) 쇼미더머니 9 Episode 1\n아로하 조정석 슬기로운 의사생활 OST Part 3\n나랑 같이 걸을래 (바른연애 길잡이 X 적재) 적재 나랑 같이 걸을래 (바른연애 길잡이 X 적재)\n그날에 나는 맘이 편했을까 이예준 그날에 나는 맘이 편했을까\nLife Goes On 방탄소년단 BE\n12:45 (Stripped) Etham 12:45 (Stripped)\n봄날 방탄소년단 YOU NEVER WALK ALONE\n흔들리는 꽃들 속에서 네 샴푸향이 느껴진거야 장범준 멜로가 체질 OST Part 3\n2002 Anne-Marie Speak Your Mind (Deluxe)\n체념 MSG워너비(정상동기) MSG워너비 TOP 8 경연곡\nMETEOR 창모 (CHANGMO) Boyhood\n모든 날, 모든 순간 (Every day, Every Moment) 폴킴 '키스 먼저 할까요?' OST Part.3\n그냥 안아달란 말야 다비치 그냥 안아달란 말야\n오래된 노래 스탠딩 에그 오래된 노래\n가을 우체국 앞에서 김대명 슬기로운 의사생활 시즌2 OST Part 2\n너의 번호를 누르고 (Prod. 영화처럼) #안녕 너의 번호를 누르고\n어떻게 지내 (Prod. By VAN.C) 오반 (OVAN) 어떻게 지내\n살짝 설렜어 (Nonstop) 오마이걸 (OH MY GIRL) NONSTOP\n다정히 내 이름을 부르면 경서예지, 전건호 다정히 내 이름을 부르면 (경서예지 x 전건호)\nMemories Maroon 5 JORDI (Deluxe)\n이 밤을 빌려 말해요 (바른연애 길잡이 X 10CM) 10CM 이 밤을 빌려 말해요 (바른연애 길잡이 X 10CM)\n오늘따라 더 미운 그대가 전상근 오늘따라 더 미운 그대가\n오늘도 빛나는 너에게 (To You My Light) (Feat.이라온) 마크툽 (MAKTUB) Red Moon : To You My Light\n사실 나는 (Feat.전건호) 경서예지 사실 나는\n추적이는 여름 비가 되어 장범준 장범준 싱글\n늦은 밤 너의 집 앞 골목길에서 노을 늦은 밤 너의 집 앞 골목길에서\nHow You Like That BLACKPINK How You Like That\n힘든 건 사랑이 아니다 임창정 힘든 건 사랑이 아니다\n이렇게 좋아해 본 적이 없어요 CHEEZE (치즈) 이렇게 좋아해 본 적이 없어요 (소녀의 세계 X CHEEZE(치즈))\n살다가 SG 워너비 살다가\n너의 발걸음에 빛을 비춰줄게 (Prod. 조영수) 케이시 (Kassy) 너의 발걸음에 빛을 비춰줄게 (Prod. 조영수)\nDance Monkey Tones And I The Kids Are Coming\n이제 나만 믿어요 임영웅 내일은 미스터트롯 우승자 특전곡\n마음을 드려요 아이유 사랑의 불시착 OST Part 11\nLove poem 아이유 Love poem\nParis In The Rain Lauv I met you when I was 18. (the playlist)\n너를 만나 폴킴 너를 만나\n내 마음이 움찔했던 순간 (취향저격 그녀 X 규현) 규현 (KYUHYUN) 내 마음이 움찔했던 순간 (취향저격 그녀 X 규현)\n아이와 나의 바다 아이유 IU 5th Album 'LILAC'\n우린 어쩌다 헤어진 걸까 허각 Hello\n우리 왜 헤어져야 해 신예영 우리 왜 헤어져야 해\n함께 했는데 이별은 나 혼자인 거야 소정 (레이디스 코드) 함께 했는데 이별은 나 혼자인 거야\nWhen We Disco (Duet with 선미) 박진영 When We Disco\n시작 가호 (Gaho) 이태원 클라쓰 OST Part.2\nDon't Start Now Dua Lipa Future Nostalgia\n맛 (Hot Sauce) NCT DREAM 맛 (Hot Sauce) - The 1st Album\n고백 (바른연애 길잡이 X 허각) 허각 고백 (바른연애 길잡이 X 허각)\nDowntown Baby 블루 (BLOO) Downtown Baby\n기다릴게 하동균, 봉구 기다릴게\nIf You Love Me (Feat. 주헌 (몬스타엑스)) NS 윤지 If You Love Me (Feat. 주헌 (몬스타엑스))\nManiac Conan Gray Maniac\n안녕 폴킴 호텔 델루나 OST Part.10\n거짓말이라도 해서 널 보고싶어 백지영 거짓말이라도 해서 널 보고싶어\n내일이 오면 (Feat. 기리보이, BIG Naughty (서동현)) 릴보이 (lIlBOI) 쇼미더머니 9 Episode 3\n"
     ]
    }
   ],
   "source": [
    "for t, s, a in zip(titles, singers, albums):\n",
    "    print(t.find('a').text, end=' ')\n",
    "    print(s.find('span', {\"class\": \"checkEllipsis\"}).text, end=' ')\n",
    "    print(a.find('a').text)\n"
   ]
  },
  {
   "source": [
    "## Link로 접속해서 crawling하기"
   ],
   "cell_type": "markdown",
   "metadata": {}
  },
  {
   "cell_type": "code",
   "execution_count": 51,
   "metadata": {},
   "outputs": [],
   "source": [
    "url = \"https://www.melon.com/chart/index.htm\"\n",
    "headers = {'user-agent': \"Mozilla/5.0 (Macintosh; Intel Mac OS X 10_15_7) AppleWebKit/605.1.15 (KHTML, like Gecko) Version/14.1.1 Safari/605.1.15\"}\n",
    "\n",
    "r = requests.get(url, headers=headers)\n",
    "soup = BeautifulSoup(r.text, 'html.parser')"
   ]
  },
  {
   "cell_type": "code",
   "execution_count": 55,
   "metadata": {},
   "outputs": [],
   "source": [
    "table = soup.find(\"table\", {\"border\": 1})"
   ]
  },
  {
   "cell_type": "code",
   "execution_count": 63,
   "metadata": {
    "tags": []
   },
   "outputs": [
    {
     "output_type": "stream",
     "name": "stdout",
     "text": [
      "33625988\n"
     ]
    }
   ],
   "source": [
    "first_song = table.find_all(\"tr\")[1]['data-song-no']\n",
    "print(first_song)"
   ]
  },
  {
   "cell_type": "code",
   "execution_count": 66,
   "metadata": {},
   "outputs": [],
   "source": [
    "song_url = f\"https://www.melon.com/song/detail.htm?songId={first_song}\"\n",
    "\n",
    "song_request = requests.get(song_url, headers=headers)\n",
    "song_page = BeautifulSoup(song_request.text, 'html.parser')"
   ]
  },
  {
   "cell_type": "code",
   "execution_count": 95,
   "metadata": {},
   "outputs": [
    {
     "output_type": "execute_result",
     "data": {
      "text/plain": [
       "'바라만 본다'"
      ]
     },
     "metadata": {},
     "execution_count": 95
    }
   ],
   "source": [
    "song_title = song_page.find(\"div\", {\"class\": \"song_name\"})\n",
    "song_title.contents[2].strip()"
   ]
  },
  {
   "cell_type": "code",
   "execution_count": 93,
   "metadata": {},
   "outputs": [
    {
     "output_type": "stream",
     "name": "stdout",
     "text": [
      "MSG워너비(M.O.M)\n"
     ]
    }
   ],
   "source": [
    "song_artist = song_page.find(\"a\", {\"class\": \"artist_name\"}).text\n",
    "song_artist"
   ]
  },
  {
   "cell_type": "code",
   "execution_count": 103,
   "metadata": {},
   "outputs": [
    {
     "output_type": "execute_result",
     "data": {
      "text/plain": [
       "'총건수\\r\\n\\t\\t\\t\\t\\t\\t\\t\\t\\t\\t\\t0'"
      ]
     },
     "metadata": {},
     "execution_count": 103
    }
   ],
   "source": [
    "song_like = song_page.find(\"div\", {\"class\":\"button d_song_like\"}).find(\"span\", {\"class\": \"cnt\"}).text\n",
    "song_like.strip()"
   ]
  },
  {
   "cell_type": "code",
   "execution_count": null,
   "metadata": {},
   "outputs": [],
   "source": []
  }
 ]
}