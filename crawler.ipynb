{
 "cells": [
  {
   "cell_type": "code",
   "execution_count": 1,
   "metadata": {},
   "outputs": [],
   "source": [
    "import requests\n",
    "from bs4 import BeautifulSoup"
   ]
  },
  {
   "cell_type": "code",
   "execution_count": 2,
   "metadata": {},
   "outputs": [],
   "source": [
    "import pandas"
   ]
  },
  {
   "cell_type": "code",
   "execution_count": 3,
   "metadata": {
    "tags": []
   },
   "outputs": [],
   "source": [
    "url = \"https://www.melon.com/chart/index.htm\"\n",
    "headers = {'user-agent': \"Mozilla/5.0 (Macintosh; Intel Mac OS X 10_15_7) AppleWebKit/605.1.15 (KHTML, like Gecko) Version/14.1.1 Safari/605.1.15\"}\n",
    "\n",
    "r = requests.get(url, headers=headers)\n",
    "soup = BeautifulSoup(r.text, 'html.parser')"
   ]
  },
  {
   "cell_type": "code",
   "execution_count": 4,
   "metadata": {},
   "outputs": [],
   "source": [
    "titles = soup.find_all(\"div\", {\"class\": \"ellipsis rank01\"}) \n",
    "singers = soup.find_all(\"div\", {\"class\": \"ellipsis rank02\"}) \n",
    "albums = soup.find_all(\"div\", {\"class\": \"ellipsis rank03\"})"
   ]
  },
  {
   "cell_type": "code",
   "execution_count": 5,
   "metadata": {},
   "outputs": [
    {
     "name": "stdout",
     "output_type": "stream",
     "text": [
      "바라만 본다 MSG워너비(M.O.M) MSG워너비 1집\n",
      "Next Level aespa Next Level\n",
      "Butter 방탄소년단 Butter\n",
      "나를 아는 사람 MSG워너비(정상동기) MSG워너비 1집\n",
      "헤픈 우연 헤이즈 (Heize) HAPPEN\n",
      "치맛바람 (Chi Mat Ba Ram) 브레이브걸스 Summer Queen\n",
      "Dun Dun Dance 오마이걸 (OH MY GIRL) Dear OHMYGIRL\n",
      "Peaches (Feat. Daniel Caesar & Giveon) Justin Bieber Justice\n",
      "신호등 이무진 신호등\n",
      "롤린 (Rollin') 브레이브걸스 Rollin'\n",
      "Weekend 태연 (TAEYEON) Weekend\n",
      "Alcohol-Free TWICE (트와이스) Taste of Love\n",
      "라일락 아이유 IU 5th Album 'LILAC'\n",
      "ASAP STAYC(스테이씨) STAYDOM\n",
      "Dynamite 방탄소년단 Dynamite (DayTime Version)\n",
      "비와 당신 이무진 슬기로운 의사생활 시즌2 OST Part 1\n",
      "안녕 (Hello) 조이 (JOY) 안녕 (Hello) - Special Album\n",
      "운전만해 (We Ride) 브레이브걸스 We Ride\n",
      "Celebrity 아이유 IU 5th Album 'LILAC'\n",
      "하루만 더 빅마마 하루만 더\n",
      "상상더하기 MSG워너비 TOP 8 (별루지, 김정수, 강창모, 정기석, 이동휘, 이상이, 박재정, 원슈타인) MSG워너비 TOP 8 경연곡\n",
      "사이렌 Remix (Feat. UNEDUCATED KID, Paul Blanco) 호미들 사이렌 Remix\n",
      "Timeless SG 워너비 Sg Wanna Be+\n",
      "상상더하기 라붐 (LABOUM) Fresh Adventure\n",
      "내 손을 잡아 아이유 최고의 사랑 OST Part.4\n",
      "멜로디 ASH ISLAND 멜로디\n",
      "비 오는 날 듣기 좋은 노래 (Feat. Colde) 에픽하이 (EPIK HIGH) 비 오는 날 듣기 좋은 노래\n",
      "밝게 빛나는 별이 되어 비춰줄게 송이한 밝게 빛나는 별이 되어 비춰줄게\n",
      "다시 사랑할 수 있을까 백지영, 이홍기 (FT아일랜드) 다시 사랑할 수 있을까\n",
      "러브(Prod.로코베리) 로꼬, 이성경 Love(Prod.Rocoberry)\n",
      "밤하늘의 별을(2020) 경서 밤하늘의 별을(2020)\n",
      "Savage Love (Laxed - Siren Beat) (BTS Remix) Jawsh 685, Jason Derulo, 방탄소년단 Savage Love (Laxed - Siren Beat) [BTS Remix]\n",
      "라라라 SG 워너비 My Friend\n",
      "마.피.아. In the morning ITZY (있지) GUESS WHO\n",
      "LOVE DAY (2021) (바른연애 길잡이 X 양요섭, 정은지) 양요섭, 정은지 LOVE DAY (2021) (바른연애 길잡이 X 양요섭, 정은지)\n",
      "Lovesick Girls BLACKPINK THE ALBUM\n",
      "잠이 오질 않네요 장범준 잠이 오질 않네요\n",
      "Dolphin 오마이걸 (OH MY GIRL) NONSTOP\n",
      "에잇(Prod.&Feat. SUGA of BTS) 아이유 에잇\n",
      "추억은 만남보다 이별에 남아 정동하 추억은 만남보다 이별에 남아\n",
      "취기를 빌려 (취향저격 그녀 X 산들) 산들 취기를 빌려 (취향저격 그녀 X 산들)\n",
      "어떻게 이별까지 사랑하겠어, 널 사랑하는 거지 AKMU (악동뮤지션) 항해\n",
      "Blueming 아이유 Love poem\n",
      "Coin 아이유 IU 5th Album 'LILAC'\n",
      "작은 것들을 위한 시 (Boy With Luv) (Feat. Halsey) 방탄소년단 MAP OF THE SOUL : PERSONA\n",
      "내사람 SG 워너비 The Precious History\n",
      "아로하 조정석 슬기로운 의사생활 OST Part 3\n",
      "Off My Face Justin Bieber Justice\n",
      "On The Ground 로제 (ROSÉ) R\n",
      "VVS (Feat. JUSTHIS) (Prod. GroovyRoom) 미란이 (Mirani), 먼치맨(MUNCHMAN), Khundi Panda, 머쉬베놈 (MUSHVENOM) 쇼미더머니 9 Episode 1\n",
      "어푸 (Ah puh) 아이유 IU 5th Album 'LILAC'\n",
      "2002 Anne-Marie Speak Your Mind (Deluxe)\n",
      "그날에 나는 맘이 편했을까 이예준 그날에 나는 맘이 편했을까\n",
      "나랑 같이 걸을래 (바른연애 길잡이 X 적재) 적재 나랑 같이 걸을래 (바른연애 길잡이 X 적재)\n",
      "12:45 (Stripped) Etham 12:45 (Stripped)\n",
      "밤이 되니까 원슈타인 밤이 되니까\n",
      "다정히 내 이름을 부르면 경서예지, 전건호 다정히 내 이름을 부르면 (경서예지 x 전건호)\n",
      "가을 우체국 앞에서 김대명 슬기로운 의사생활 시즌2 OST Part 2\n",
      "흔들리는 꽃들 속에서 네 샴푸향이 느껴진거야 장범준 멜로가 체질 OST Part 3\n",
      "모든 날, 모든 순간 (Every day, Every Moment) 폴킴 '키스 먼저 할까요?' OST Part.3\n",
      "METEOR 창모 (CHANGMO) Boyhood\n",
      "Life Goes On 방탄소년단 BE\n",
      "봄날 방탄소년단 YOU NEVER WALK ALONE\n",
      "허리춤 오반 (OVAN) 허리춤\n",
      "체념 MSG워너비(정상동기) MSG워너비 TOP 8 경연곡\n",
      "오래된 노래 스탠딩 에그 오래된 노래\n",
      "추적이는 여름 비가 되어 장범준 장범준 싱글\n",
      "너의 번호를 누르고 (Prod. 영화처럼) #안녕 너의 번호를 누르고\n",
      "어떻게 지내 (Prod. By VAN.C) 오반 (OVAN) 어떻게 지내\n",
      "Memories Maroon 5 JORDI (Deluxe)\n",
      "살짝 설렜어 (Nonstop) 오마이걸 (OH MY GIRL) NONSTOP\n",
      "그냥 안아달란 말야 다비치 그냥 안아달란 말야\n",
      "오늘도 빛나는 너에게 (To You My Light) (Feat.이라온) 마크툽 (MAKTUB) Red Moon : To You My Light\n",
      "한여름밤의 꿀 : 다시 여름 San E, 레이나 (Raina) 한여름밤의 꿀 : 다시 여름 (TEN PROJECT Part.3)\n",
      "이 밤을 빌려 말해요 (바른연애 길잡이 X 10CM) 10CM 이 밤을 빌려 말해요 (바른연애 길잡이 X 10CM)\n",
      "사실 나는 (Feat.전건호) 경서예지 사실 나는\n",
      "늦은 밤 너의 집 앞 골목길에서 노을 늦은 밤 너의 집 앞 골목길에서\n",
      "How You Like That BLACKPINK How You Like That\n",
      "Way Back Home (2021) 런치 Way Back Home (2021)\n",
      "힘든 건 사랑이 아니다 임창정 힘든 건 사랑이 아니다\n",
      "해야 해 2PM MUST\n",
      "Dance Monkey Tones And I The Kids Are Coming\n",
      "나는 너 좋아 장범준 슬기로운 의사생활 시즌2 OST Part 3\n",
      "이렇게 좋아해 본 적이 없어요 CHEEZE (치즈) 이렇게 좋아해 본 적이 없어요 (소녀의 세계 X CHEEZE(치즈))\n",
      "너의 발걸음에 빛을 비춰줄게 (Prod. 조영수) 케이시 (Kassy) 너의 발걸음에 빛을 비춰줄게 (Prod. 조영수)\n",
      "이제 나만 믿어요 임영웅 내일은 미스터트롯 우승자 특전곡\n",
      "Paris In The Rain Lauv I met you when I was 18. (the playlist)\n",
      "살다가 SG 워너비 살다가\n",
      "오늘따라 더 미운 그대가 전상근 오늘따라 더 미운 그대가\n",
      "마음을 드려요 아이유 사랑의 불시착 OST Part 11\n",
      "너를 만나 폴킴 너를 만나\n",
      "Hello Future NCT DREAM Hello Future - The 1st Album Repackage\n",
      "Love poem 아이유 Love poem\n",
      "내 마음이 움찔했던 순간 (취향저격 그녀 X 규현) 규현 (KYUHYUN) 내 마음이 움찔했던 순간 (취향저격 그녀 X 규현)\n",
      "아이와 나의 바다 아이유 IU 5th Album 'LILAC'\n",
      "Don't Start Now Dua Lipa Future Nostalgia\n",
      "우린 어쩌다 헤어진 걸까 허각 Hello\n",
      "우리 왜 헤어져야 해 신예영 우리 왜 헤어져야 해\n",
      "시작 가호 (Gaho) 이태원 클라쓰 OST Part.2\n",
      "안녕 폴킴 호텔 델루나 OST Part.10\n"
     ]
    }
   ],
   "source": [
    "for t, s, a in zip(titles, singers, albums):\n",
    "    print(t.find('a').text, end=' ')\n",
    "    print(s.find('span', {\"class\": \"checkEllipsis\"}).text, end=' ')\n",
    "    print(a.find('a').text)\n"
   ]
  },
  {
   "cell_type": "markdown",
   "metadata": {},
   "source": [
    "## Link로 접속해서 crawling하기"
   ]
  },
  {
   "cell_type": "code",
   "execution_count": 6,
   "metadata": {},
   "outputs": [],
   "source": [
    "url = \"https://www.melon.com/chart/index.htm\"\n",
    "headers = {'user-agent': \"Mozilla/5.0 (Macintosh; Intel Mac OS X 10_15_7) AppleWebKit/605.1.15 (KHTML, like Gecko) Version/14.1.1 Safari/605.1.15\"}\n",
    "\n",
    "r = requests.get(url, headers=headers)\n",
    "soup = BeautifulSoup(r.text, 'html.parser')"
   ]
  },
  {
   "cell_type": "code",
   "execution_count": 7,
   "metadata": {},
   "outputs": [],
   "source": [
    "table = soup.find(\"table\", {\"border\": 1})"
   ]
  },
  {
   "cell_type": "code",
   "execution_count": 8,
   "metadata": {
    "tags": []
   },
   "outputs": [
    {
     "name": "stdout",
     "output_type": "stream",
     "text": [
      "33625988\n"
     ]
    }
   ],
   "source": [
    "first_song = table.find_all(\"tr\")[1]['data-song-no']\n",
    "print(first_song)"
   ]
  },
  {
   "cell_type": "code",
   "execution_count": 9,
   "metadata": {},
   "outputs": [],
   "source": [
    "song_url = f\"https://www.melon.com/song/detail.htm?songId={first_song}\"\n",
    "\n",
    "song_request = requests.get(song_url, headers=headers)\n",
    "song_page = BeautifulSoup(song_request.text, 'html.parser')"
   ]
  },
  {
   "cell_type": "code",
   "execution_count": 10,
   "metadata": {},
   "outputs": [
    {
     "data": {
      "text/plain": [
       "'바라만 본다'"
      ]
     },
     "execution_count": 10,
     "metadata": {},
     "output_type": "execute_result"
    }
   ],
   "source": [
    "song_title = song_page.find(\"div\", {\"class\": \"song_name\"})\n",
    "song_title.contents[2].strip()"
   ]
  },
  {
   "cell_type": "code",
   "execution_count": 11,
   "metadata": {},
   "outputs": [
    {
     "data": {
      "text/plain": [
       "'MSG워너비(M.O.M)'"
      ]
     },
     "execution_count": 11,
     "metadata": {},
     "output_type": "execute_result"
    }
   ],
   "source": [
    "song_artist = song_page.find(\"a\", {\"class\": \"artist_name\"}).text\n",
    "song_artist"
   ]
  },
  {
   "cell_type": "code",
   "execution_count": 12,
   "metadata": {},
   "outputs": [
    {
     "data": {
      "text/plain": [
       "'총건수\\r\\n\\t\\t\\t\\t\\t\\t\\t\\t\\t\\t\\t0'"
      ]
     },
     "execution_count": 12,
     "metadata": {},
     "output_type": "execute_result"
    }
   ],
   "source": [
    "song_like = song_page.find(\"div\", {\"class\":\"button d_song_like\"}).find(\"span\", {\"class\": \"cnt\"}).text\n",
    "song_like.strip()"
   ]
  },
  {
   "cell_type": "markdown",
   "metadata": {},
   "source": [
    "## instagram 좋아요수 크롤링 시도"
   ]
  },
  {
   "cell_type": "code",
   "execution_count": 15,
   "metadata": {},
   "outputs": [],
   "source": [
    "import selenium.webdriver as webdriver\n",
    "from bs4 import BeautifulSoup\n",
    "from time import sleep"
   ]
  },
  {
   "cell_type": "code",
   "execution_count": 16,
   "metadata": {},
   "outputs": [
    {
     "ename": "WebDriverException",
     "evalue": "Message: 'chromedriver' executable needs to be in PATH. Please see https://sites.google.com/a/chromium.org/chromedriver/home\n",
     "output_type": "error",
     "traceback": [
      "\u001b[0;31m---------------------------------------------------------------------------\u001b[0m",
      "\u001b[0;31mFileNotFoundError\u001b[0m                         Traceback (most recent call last)",
      "\u001b[0;32m~/.local/lib/python3.8/site-packages/selenium/webdriver/common/service.py\u001b[0m in \u001b[0;36mstart\u001b[0;34m(self)\u001b[0m\n\u001b[1;32m     71\u001b[0m             \u001b[0mcmd\u001b[0m\u001b[0;34m.\u001b[0m\u001b[0mextend\u001b[0m\u001b[0;34m(\u001b[0m\u001b[0mself\u001b[0m\u001b[0;34m.\u001b[0m\u001b[0mcommand_line_args\u001b[0m\u001b[0;34m(\u001b[0m\u001b[0;34m)\u001b[0m\u001b[0;34m)\u001b[0m\u001b[0;34m\u001b[0m\u001b[0;34m\u001b[0m\u001b[0m\n\u001b[0;32m---> 72\u001b[0;31m             self.process = subprocess.Popen(cmd, env=self.env,\n\u001b[0m\u001b[1;32m     73\u001b[0m                                             \u001b[0mclose_fds\u001b[0m\u001b[0;34m=\u001b[0m\u001b[0mplatform\u001b[0m\u001b[0;34m.\u001b[0m\u001b[0msystem\u001b[0m\u001b[0;34m(\u001b[0m\u001b[0;34m)\u001b[0m \u001b[0;34m!=\u001b[0m \u001b[0;34m'Windows'\u001b[0m\u001b[0;34m,\u001b[0m\u001b[0;34m\u001b[0m\u001b[0;34m\u001b[0m\u001b[0m\n",
      "\u001b[0;32m/usr/lib/python3.8/subprocess.py\u001b[0m in \u001b[0;36m__init__\u001b[0;34m(self, args, bufsize, executable, stdin, stdout, stderr, preexec_fn, close_fds, shell, cwd, env, universal_newlines, startupinfo, creationflags, restore_signals, start_new_session, pass_fds, encoding, errors, text)\u001b[0m\n\u001b[1;32m    857\u001b[0m \u001b[0;34m\u001b[0m\u001b[0m\n\u001b[0;32m--> 858\u001b[0;31m             self._execute_child(args, executable, preexec_fn, close_fds,\n\u001b[0m\u001b[1;32m    859\u001b[0m                                 \u001b[0mpass_fds\u001b[0m\u001b[0;34m,\u001b[0m \u001b[0mcwd\u001b[0m\u001b[0;34m,\u001b[0m \u001b[0menv\u001b[0m\u001b[0;34m,\u001b[0m\u001b[0;34m\u001b[0m\u001b[0;34m\u001b[0m\u001b[0m\n",
      "\u001b[0;32m/usr/lib/python3.8/subprocess.py\u001b[0m in \u001b[0;36m_execute_child\u001b[0;34m(self, args, executable, preexec_fn, close_fds, pass_fds, cwd, env, startupinfo, creationflags, shell, p2cread, p2cwrite, c2pread, c2pwrite, errread, errwrite, restore_signals, start_new_session)\u001b[0m\n\u001b[1;32m   1703\u001b[0m                         \u001b[0merr_msg\u001b[0m \u001b[0;34m=\u001b[0m \u001b[0mos\u001b[0m\u001b[0;34m.\u001b[0m\u001b[0mstrerror\u001b[0m\u001b[0;34m(\u001b[0m\u001b[0merrno_num\u001b[0m\u001b[0;34m)\u001b[0m\u001b[0;34m\u001b[0m\u001b[0;34m\u001b[0m\u001b[0m\n\u001b[0;32m-> 1704\u001b[0;31m                     \u001b[0;32mraise\u001b[0m \u001b[0mchild_exception_type\u001b[0m\u001b[0;34m(\u001b[0m\u001b[0merrno_num\u001b[0m\u001b[0;34m,\u001b[0m \u001b[0merr_msg\u001b[0m\u001b[0;34m,\u001b[0m \u001b[0merr_filename\u001b[0m\u001b[0;34m)\u001b[0m\u001b[0;34m\u001b[0m\u001b[0;34m\u001b[0m\u001b[0m\n\u001b[0m\u001b[1;32m   1705\u001b[0m                 \u001b[0;32mraise\u001b[0m \u001b[0mchild_exception_type\u001b[0m\u001b[0;34m(\u001b[0m\u001b[0merr_msg\u001b[0m\u001b[0;34m)\u001b[0m\u001b[0;34m\u001b[0m\u001b[0;34m\u001b[0m\u001b[0m\n",
      "\u001b[0;31mFileNotFoundError\u001b[0m: [Errno 2] No such file or directory: 'chromedriver'",
      "\nDuring handling of the above exception, another exception occurred:\n",
      "\u001b[0;31mWebDriverException\u001b[0m                        Traceback (most recent call last)",
      "\u001b[0;32m/tmp/ipykernel_83888/2008467570.py\u001b[0m in \u001b[0;36m<module>\u001b[0;34m\u001b[0m\n\u001b[0;32m----> 1\u001b[0;31m \u001b[0mdriver\u001b[0m \u001b[0;34m=\u001b[0m \u001b[0mwebdriver\u001b[0m\u001b[0;34m.\u001b[0m\u001b[0mChrome\u001b[0m\u001b[0;34m(\u001b[0m\u001b[0;34m'chromedriver'\u001b[0m\u001b[0;34m)\u001b[0m\u001b[0;34m\u001b[0m\u001b[0;34m\u001b[0m\u001b[0m\n\u001b[0m",
      "\u001b[0;32m~/.local/lib/python3.8/site-packages/selenium/webdriver/chrome/webdriver.py\u001b[0m in \u001b[0;36m__init__\u001b[0;34m(self, executable_path, port, options, service_args, desired_capabilities, service_log_path, chrome_options, keep_alive)\u001b[0m\n\u001b[1;32m     71\u001b[0m             \u001b[0mservice_args\u001b[0m\u001b[0;34m=\u001b[0m\u001b[0mservice_args\u001b[0m\u001b[0;34m,\u001b[0m\u001b[0;34m\u001b[0m\u001b[0;34m\u001b[0m\u001b[0m\n\u001b[1;32m     72\u001b[0m             log_path=service_log_path)\n\u001b[0;32m---> 73\u001b[0;31m         \u001b[0mself\u001b[0m\u001b[0;34m.\u001b[0m\u001b[0mservice\u001b[0m\u001b[0;34m.\u001b[0m\u001b[0mstart\u001b[0m\u001b[0;34m(\u001b[0m\u001b[0;34m)\u001b[0m\u001b[0;34m\u001b[0m\u001b[0;34m\u001b[0m\u001b[0m\n\u001b[0m\u001b[1;32m     74\u001b[0m \u001b[0;34m\u001b[0m\u001b[0m\n\u001b[1;32m     75\u001b[0m         \u001b[0;32mtry\u001b[0m\u001b[0;34m:\u001b[0m\u001b[0;34m\u001b[0m\u001b[0;34m\u001b[0m\u001b[0m\n",
      "\u001b[0;32m~/.local/lib/python3.8/site-packages/selenium/webdriver/common/service.py\u001b[0m in \u001b[0;36mstart\u001b[0;34m(self)\u001b[0m\n\u001b[1;32m     79\u001b[0m         \u001b[0;32mexcept\u001b[0m \u001b[0mOSError\u001b[0m \u001b[0;32mas\u001b[0m \u001b[0merr\u001b[0m\u001b[0;34m:\u001b[0m\u001b[0;34m\u001b[0m\u001b[0;34m\u001b[0m\u001b[0m\n\u001b[1;32m     80\u001b[0m             \u001b[0;32mif\u001b[0m \u001b[0merr\u001b[0m\u001b[0;34m.\u001b[0m\u001b[0merrno\u001b[0m \u001b[0;34m==\u001b[0m \u001b[0merrno\u001b[0m\u001b[0;34m.\u001b[0m\u001b[0mENOENT\u001b[0m\u001b[0;34m:\u001b[0m\u001b[0;34m\u001b[0m\u001b[0;34m\u001b[0m\u001b[0m\n\u001b[0;32m---> 81\u001b[0;31m                 raise WebDriverException(\n\u001b[0m\u001b[1;32m     82\u001b[0m                     \"'%s' executable needs to be in PATH. %s\" % (\n\u001b[1;32m     83\u001b[0m                         os.path.basename(self.path), self.start_error_message)\n",
      "\u001b[0;31mWebDriverException\u001b[0m: Message: 'chromedriver' executable needs to be in PATH. Please see https://sites.google.com/a/chromium.org/chromedriver/home\n"
     ]
    }
   ],
   "source": [
    "driver = webdriver.Chrome('chromedriver')"
   ]
  },
  {
   "cell_type": "code",
   "execution_count": null,
   "metadata": {},
   "outputs": [],
   "source": [
    "instagram_url = \"https://www.instagram.com/p/CQnUq6bBjuv/\"\n",
    "\n",
    "driver.get(instagram_url)\n",
    "instagram_page = driver.page_source\n",
    "instagram_soup = BeautifulSoup(instagram_page, 'lxml')"
   ]
  },
  {
   "cell_type": "code",
   "execution_count": null,
   "metadata": {},
   "outputs": [],
   "source": [
    "instagram_soup.find_all(attrs={'class':'Nm9Fw'})[0].text"
   ]
  },
  {
   "cell_type": "markdown",
   "metadata": {},
   "source": [
    "## Selenium을 이용한 melon 페이지 크롤링"
   ]
  },
  {
   "cell_type": "code",
   "execution_count": null,
   "metadata": {},
   "outputs": [],
   "source": [
    "import selenium.webdriver as webdriver\n",
    "from bs4 import BeautifulSoup\n",
    "from time import sleep\n",
    "import requests\n",
    "import datetime\n",
    "\n",
    "import pandas as pd\n",
    "from tqdm import tqdm"
   ]
  },
  {
   "cell_type": "code",
   "execution_count": null,
   "metadata": {},
   "outputs": [],
   "source": [
    "## 멜론 실시간 차트가 보여지는 url, 사파리로 접속한 header\n",
    "url = \"https://www.melon.com/chart/index.htm\"\n",
    "headers = {\"user-agent\": \"Mozilla/5.0 (Macintosh; Intel Mac OS X 10_15_7) AppleWebKit/605.1.15 (KHTML, like Gecko) Version/14.1.1 Safari/605.1.15\"}\n",
    "\n",
    "r = requests.get(url, headers=headers)\n",
    "soup = BeautifulSoup(r.text, 'html.parser')"
   ]
  },
  {
   "cell_type": "code",
   "execution_count": null,
   "metadata": {},
   "outputs": [],
   "source": [
    "## 크롤링을 실행할 드라이버\n",
    "driver = webdriver.Chrome('chromedriver')"
   ]
  },
  {
   "cell_type": "code",
   "execution_count": null,
   "metadata": {},
   "outputs": [],
   "source": [
    "def get_table(soup):\n",
    "    table = soup.find(\"table\", {\"border\": 1})\n",
    "    song_ids = [e['data-song-no'] for e in table.find_all(\"tr\")[1:]]\n",
    "    return song_ids\n"
   ]
  },
  {
   "cell_type": "code",
   "execution_count": null,
   "metadata": {},
   "outputs": [],
   "source": [
    "class song_page():\n",
    "    \n",
    "    def __init__(self, id):\n",
    "        self.id = id\n",
    "\n",
    "    def get_page(self):\n",
    "        url = f\"https://www.melon.com/song/detail.htm?songId={self.id}\"\n",
    "        self.url = url\n",
    "\n",
    "        driver.get(url)\n",
    "        song_page = driver.page_source\n",
    "        song_soup = BeautifulSoup(song_page, 'lxml')\n",
    "        self.soup = song_soup\n",
    "\n",
    "    def get_name(self):\n",
    "        self.name = self.soup.find(attrs={'class':'song_name'}).contents[2].strip()\n",
    "\n",
    "    def get_artist(self):\n",
    "        self.artist = self.soup.find(attrs={'class':'artist_name'}).text\n",
    "\n",
    "    def get_album(self):\n",
    "        self.album = self.soup.find(attrs={'class':'list'}).contents[3].text\n",
    "\n",
    "    def get_released(self):\n",
    "        self.released = self.soup.find(attrs={'class':'list'}).contents[7].text\n",
    "\n",
    "    def get_likes(self):\n",
    "        self.likes = self.soup.find(attrs={'class':'cnt'}).text\n",
    "\n",
    "    def get_comments(self):\n",
    "        self.comments = self.soup.find(attrs={'id':'revCnt'}).text\n",
    "\n",
    "    def get_now(self):\n",
    "        self.now = datetime.datetime.now()\n",
    "\n",
    "    def set_attributes(self):\n",
    "        self.get_page()\n",
    "\n",
    "        self.get_name()\n",
    "        self.get_artist()\n",
    "        self.get_album()\n",
    "        self.get_released()\n",
    "        self.get_likes()\n",
    "        self.get_comments()\n",
    "        self.get_now()\n",
    "\n",
    "    def get_attributes(self):\n",
    "        return (self.id,\n",
    "                self.name, \n",
    "                self.artist,\n",
    "                self.album,\n",
    "                self.released,\n",
    "                self.likes,\n",
    "                self.comments,\n",
    "                self.now)\n"
   ]
  },
  {
   "cell_type": "code",
   "execution_count": null,
   "metadata": {},
   "outputs": [],
   "source": [
    "table = get_table(soup)\n",
    "song_info = []\n",
    "\n",
    "for song_id in tqdm(table):\n",
    "\n",
    "    page = song_page(song_id)\n",
    "    page.set_attributes()\n",
    "    song_info.append(page.get_attributes())"
   ]
  },
  {
   "cell_type": "code",
   "execution_count": null,
   "metadata": {},
   "outputs": [],
   "source": [
    "df = pd.DataFrame(song_info, \n",
    "                  columns=['id', 'name', 'artist', 'album', 'released date', 'likes', 'comments', 'time(now)'])"
   ]
  },
  {
   "cell_type": "code",
   "execution_count": null,
   "metadata": {},
   "outputs": [],
   "source": [
    "df"
   ]
  },
  {
   "cell_type": "markdown",
   "metadata": {},
   "source": [
    "### for test"
   ]
  },
  {
   "cell_type": "code",
   "execution_count": null,
   "metadata": {},
   "outputs": [],
   "source": [
    "table = get_table(soup)\n",
    "page = song_page(table[0])\n",
    "page.set_attributes()\n",
    "print(page.get_attributes())"
   ]
  },
  {
   "cell_type": "code",
   "execution_count": null,
   "metadata": {},
   "outputs": [],
   "source": []
  }
 ],
 "metadata": {
  "interpreter": {
   "hash": "8235b21b7e4ccb1a631c75a86bc50b1a38dfb6faace30e871c40999987116d9b"
  },
  "kernelspec": {
   "display_name": "Python 3 (ipykernel)",
   "language": "python",
   "name": "python3"
  },
  "language_info": {
   "codemirror_mode": {
    "name": "ipython",
    "version": 3
   },
   "file_extension": ".py",
   "mimetype": "text/x-python",
   "name": "python",
   "nbconvert_exporter": "python",
   "pygments_lexer": "ipython3",
   "version": "3.8.10"
  }
 },
 "nbformat": 4,
 "nbformat_minor": 2
}
