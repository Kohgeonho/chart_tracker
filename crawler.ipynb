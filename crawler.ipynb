{
 "metadata": {
  "language_info": {
   "codemirror_mode": {
    "name": "ipython",
    "version": 3
   },
   "file_extension": ".py",
   "mimetype": "text/x-python",
   "name": "python",
   "nbconvert_exporter": "python",
   "pygments_lexer": "ipython3",
   "version": "3.8.5"
  },
  "orig_nbformat": 4,
  "kernelspec": {
   "name": "python3",
   "display_name": "Python 3.8.5 64-bit ('base': conda)"
  },
  "interpreter": {
   "hash": "8235b21b7e4ccb1a631c75a86bc50b1a38dfb6faace30e871c40999987116d9b"
  }
 },
 "nbformat": 4,
 "nbformat_minor": 2,
 "cells": [
  {
   "cell_type": "code",
   "execution_count": 1,
   "metadata": {},
   "outputs": [],
   "source": [
    "import requests\n",
    "from bs4 import BeautifulSoup"
   ]
  },
  {
   "cell_type": "code",
   "execution_count": 2,
   "metadata": {},
   "outputs": [],
   "source": [
    "import pandas"
   ]
  },
  {
   "cell_type": "code",
   "execution_count": 3,
   "metadata": {
    "tags": []
   },
   "outputs": [],
   "source": [
    "url = \"https://www.melon.com/chart/index.htm\"\n",
    "headers = {'user-agent': \"Mozilla/5.0 (Macintosh; Intel Mac OS X 10_15_7) AppleWebKit/605.1.15 (KHTML, like Gecko) Version/14.1.1 Safari/605.1.15\"}\n",
    "\n",
    "r = requests.get(url, headers=headers)\n",
    "soup = BeautifulSoup(r.text, 'html.parser')"
   ]
  },
  {
   "cell_type": "code",
   "execution_count": 4,
   "metadata": {},
   "outputs": [],
   "source": [
    "titles = soup.find_all(\"div\", {\"class\": \"ellipsis rank01\"}) \n",
    "singers = soup.find_all(\"div\", {\"class\": \"ellipsis rank02\"}) \n",
    "albums = soup.find_all(\"div\", {\"class\": \"ellipsis rank03\"})"
   ]
  },
  {
   "cell_type": "code",
   "execution_count": 5,
   "metadata": {},
   "outputs": [
    {
     "output_type": "stream",
     "name": "stdout",
     "text": [
      "바라만 본다 MSG워너비(M.O.M) MSG워너비 1집\nNext Level aespa Next Level\n나를 아는 사람 MSG워너비(정상동기) MSG워너비 1집\nButter 방탄소년단 Butter\n헤픈 우연 헤이즈 (Heize) HAPPEN\n치맛바람 (Chi Mat Ba Ram) 브레이브걸스 Summer Queen\nDun Dun Dance 오마이걸 (OH MY GIRL) Dear OHMYGIRL\nPeaches (Feat. Daniel Caesar & Giveon) Justin Bieber Justice\n롤린 (Rollin') 브레이브걸스 Rollin'\nAlcohol-Free TWICE (트와이스) Taste of Love\nASAP STAYC(스테이씨) STAYDOM\n라일락 아이유 IU 5th Album 'LILAC'\n운전만해 (We Ride) 브레이브걸스 We Ride\nDynamite 방탄소년단 Dynamite (DayTime Version)\n안녕 (Hello) 조이 (JOY) 안녕 (Hello) - Special Album\nCelebrity 아이유 IU 5th Album 'LILAC'\n상상더하기 MSG워너비 TOP 8 (별루지, 김정수, 강창모, 정기석, 이동휘, 이상이, 박재정, 원슈타인) MSG워너비 TOP 8 경연곡\n신호등 이무진 신호등\n비와 당신 이무진 슬기로운 의사생활 시즌2 OST Part 1\n사이렌 Remix (Feat. UNEDUCATED KID, Paul Blanco) 호미들 사이렌 Remix\nTimeless SG 워너비 Sg Wanna Be+\n상상더하기 라붐 (LABOUM) Fresh Adventure\n내 손을 잡아 아이유 최고의 사랑 OST Part.4\n멜로디 ASH ISLAND 멜로디\n밝게 빛나는 별이 되어 비춰줄게 송이한 밝게 빛나는 별이 되어 비춰줄게\n마.피.아. In the morning ITZY (있지) GUESS WHO\n라라라 SG 워너비 My Friend\n밤하늘의 별을(2020) 경서 밤하늘의 별을(2020)\nLOVE DAY (2021) (바른연애 길잡이 X 양요섭, 정은지) 양요섭, 정은지 LOVE DAY (2021) (바른연애 길잡이 X 양요섭, 정은지)\nSavage Love (Laxed - Siren Beat) (BTS Remix) Jawsh 685, Jason Derulo, 방탄소년단 Savage Love (Laxed - Siren Beat) [BTS Remix]\n하루만 더 빅마마 하루만 더\nLovesick Girls BLACKPINK THE ALBUM\n잠이 오질 않네요 장범준 잠이 오질 않네요\nDolphin 오마이걸 (OH MY GIRL) NONSTOP\nCoin 아이유 IU 5th Album 'LILAC'\n에잇(Prod.&Feat. SUGA of BTS) 아이유 에잇\n내사람 SG 워너비 The Precious History\nBlueming 아이유 Love poem\n작은 것들을 위한 시 (Boy With Luv) (Feat. Halsey) 방탄소년단 MAP OF THE SOUL : PERSONA\n취기를 빌려 (취향저격 그녀 X 산들) 산들 취기를 빌려 (취향저격 그녀 X 산들)\n어떻게 이별까지 사랑하겠어, 널 사랑하는 거지 AKMU (악동뮤지션) 항해\n추억은 만남보다 이별에 남아 정동하 추억은 만남보다 이별에 남아\nOn The Ground 로제 (ROSÉ) R\nOff My Face Justin Bieber Justice\nVVS (Feat. JUSTHIS) (Prod. GroovyRoom) 미란이 (Mirani), 먼치맨(MUNCHMAN), Khundi Panda, 머쉬베놈 (MUSHVENOM) 쇼미더머니 9 Episode 1\n아로하 조정석 슬기로운 의사생활 OST Part 3\n어푸 (Ah puh) 아이유 IU 5th Album 'LILAC'\n나랑 같이 걸을래 (바른연애 길잡이 X 적재) 적재 나랑 같이 걸을래 (바른연애 길잡이 X 적재)\n그날에 나는 맘이 편했을까 이예준 그날에 나는 맘이 편했을까\nLife Goes On 방탄소년단 BE\n봄날 방탄소년단 YOU NEVER WALK ALONE\n12:45 (Stripped) Etham 12:45 (Stripped)\n2002 Anne-Marie Speak Your Mind (Deluxe)\n흔들리는 꽃들 속에서 네 샴푸향이 느껴진거야 장범준 멜로가 체질 OST Part 3\nMETEOR 창모 (CHANGMO) Boyhood\n허리춤 오반 (OVAN) 허리춤\n체념 MSG워너비(정상동기) MSG워너비 TOP 8 경연곡\n모든 날, 모든 순간 (Every day, Every Moment) 폴킴 '키스 먼저 할까요?' OST Part.3\n가을 우체국 앞에서 김대명 슬기로운 의사생활 시즌2 OST Part 2\n오래된 노래 스탠딩 에그 오래된 노래\n그냥 안아달란 말야 다비치 그냥 안아달란 말야\n너의 번호를 누르고 (Prod. 영화처럼) #안녕 너의 번호를 누르고\n어떻게 지내 (Prod. By VAN.C) 오반 (OVAN) 어떻게 지내\n살짝 설렜어 (Nonstop) 오마이걸 (OH MY GIRL) NONSTOP\n다정히 내 이름을 부르면 경서예지, 전건호 다정히 내 이름을 부르면 (경서예지 x 전건호)\nMemories Maroon 5 JORDI (Deluxe)\n이 밤을 빌려 말해요 (바른연애 길잡이 X 10CM) 10CM 이 밤을 빌려 말해요 (바른연애 길잡이 X 10CM)\n오늘도 빛나는 너에게 (To You My Light) (Feat.이라온) 마크툽 (MAKTUB) Red Moon : To You My Light\n해야 해 2PM MUST\n사실 나는 (Feat.전건호) 경서예지 사실 나는\n늦은 밤 너의 집 앞 골목길에서 노을 늦은 밤 너의 집 앞 골목길에서\n추적이는 여름 비가 되어 장범준 장범준 싱글\n오늘따라 더 미운 그대가 전상근 오늘따라 더 미운 그대가\nHow You Like That BLACKPINK How You Like That\n힘든 건 사랑이 아니다 임창정 힘든 건 사랑이 아니다\n살다가 SG 워너비 살다가\n이렇게 좋아해 본 적이 없어요 CHEEZE (치즈) 이렇게 좋아해 본 적이 없어요 (소녀의 세계 X CHEEZE(치즈))\nHello Future NCT DREAM Hello Future - The 1st Album Repackage\n이제 나만 믿어요 임영웅 내일은 미스터트롯 우승자 특전곡\n너의 발걸음에 빛을 비춰줄게 (Prod. 조영수) 케이시 (Kassy) 너의 발걸음에 빛을 비춰줄게 (Prod. 조영수)\nDance Monkey Tones And I The Kids Are Coming\n마음을 드려요 아이유 사랑의 불시착 OST Part 11\nLove poem 아이유 Love poem\n너를 만나 폴킴 너를 만나\nParis In The Rain Lauv I met you when I was 18. (the playlist)\n맛 (Hot Sauce) NCT DREAM 맛 (Hot Sauce) - The 1st Album\n내 마음이 움찔했던 순간 (취향저격 그녀 X 규현) 규현 (KYUHYUN) 내 마음이 움찔했던 순간 (취향저격 그녀 X 규현)\n우린 어쩌다 헤어진 걸까 허각 Hello\n아이와 나의 바다 아이유 IU 5th Album 'LILAC'\n우리 왜 헤어져야 해 신예영 우리 왜 헤어져야 해\nWhen We Disco (Duet with 선미) 박진영 When We Disco\n시작 가호 (Gaho) 이태원 클라쓰 OST Part.2\n함께 했는데 이별은 나 혼자인 거야 소정 (레이디스 코드) 함께 했는데 이별은 나 혼자인 거야\nDon't Start Now Dua Lipa Future Nostalgia\n고백 (바른연애 길잡이 X 허각) 허각 고백 (바른연애 길잡이 X 허각)\nManiac Conan Gray Maniac\nDowntown Baby 블루 (BLOO) Downtown Baby\n기다릴게 하동균, 봉구 기다릴게\n안녕 폴킴 호텔 델루나 OST Part.10\nIf You Love Me (Feat. 주헌 (몬스타엑스)) NS 윤지 If You Love Me (Feat. 주헌 (몬스타엑스))\n"
     ]
    }
   ],
   "source": [
    "for t, s, a in zip(titles, singers, albums):\n",
    "    print(t.find('a').text, end=' ')\n",
    "    print(s.find('span', {\"class\": \"checkEllipsis\"}).text, end=' ')\n",
    "    print(a.find('a').text)\n"
   ]
  },
  {
   "source": [
    "## Link로 접속해서 crawling하기"
   ],
   "cell_type": "markdown",
   "metadata": {}
  },
  {
   "cell_type": "code",
   "execution_count": 6,
   "metadata": {},
   "outputs": [],
   "source": [
    "url = \"https://www.melon.com/chart/index.htm\"\n",
    "headers = {'user-agent': \"Mozilla/5.0 (Macintosh; Intel Mac OS X 10_15_7) AppleWebKit/605.1.15 (KHTML, like Gecko) Version/14.1.1 Safari/605.1.15\"}\n",
    "\n",
    "r = requests.get(url, headers=headers)\n",
    "soup = BeautifulSoup(r.text, 'html.parser')"
   ]
  },
  {
   "cell_type": "code",
   "execution_count": 7,
   "metadata": {},
   "outputs": [],
   "source": [
    "table = soup.find(\"table\", {\"border\": 1})"
   ]
  },
  {
   "cell_type": "code",
   "execution_count": 8,
   "metadata": {
    "tags": []
   },
   "outputs": [
    {
     "output_type": "stream",
     "name": "stdout",
     "text": [
      "33625988\n"
     ]
    }
   ],
   "source": [
    "first_song = table.find_all(\"tr\")[1]['data-song-no']\n",
    "print(first_song)"
   ]
  },
  {
   "cell_type": "code",
   "execution_count": 9,
   "metadata": {},
   "outputs": [],
   "source": [
    "song_url = f\"https://www.melon.com/song/detail.htm?songId={first_song}\"\n",
    "\n",
    "song_request = requests.get(song_url, headers=headers)\n",
    "song_page = BeautifulSoup(song_request.text, 'html.parser')"
   ]
  },
  {
   "cell_type": "code",
   "execution_count": 10,
   "metadata": {},
   "outputs": [
    {
     "output_type": "execute_result",
     "data": {
      "text/plain": [
       "'바라만 본다'"
      ]
     },
     "metadata": {},
     "execution_count": 10
    }
   ],
   "source": [
    "song_title = song_page.find(\"div\", {\"class\": \"song_name\"})\n",
    "song_title.contents[2].strip()"
   ]
  },
  {
   "cell_type": "code",
   "execution_count": 11,
   "metadata": {},
   "outputs": [
    {
     "output_type": "execute_result",
     "data": {
      "text/plain": [
       "'MSG워너비(M.O.M)'"
      ]
     },
     "metadata": {},
     "execution_count": 11
    }
   ],
   "source": [
    "song_artist = song_page.find(\"a\", {\"class\": \"artist_name\"}).text\n",
    "song_artist"
   ]
  },
  {
   "cell_type": "code",
   "execution_count": 12,
   "metadata": {},
   "outputs": [
    {
     "output_type": "execute_result",
     "data": {
      "text/plain": [
       "'총건수\\r\\n\\t\\t\\t\\t\\t\\t\\t\\t\\t\\t\\t0'"
      ]
     },
     "metadata": {},
     "execution_count": 12
    }
   ],
   "source": [
    "song_like = song_page.find(\"div\", {\"class\":\"button d_song_like\"}).find(\"span\", {\"class\": \"cnt\"}).text\n",
    "song_like.strip()"
   ]
  },
  {
   "source": [
    "## instagram 좋아요수 크롤링 시도"
   ],
   "cell_type": "markdown",
   "metadata": {}
  },
  {
   "cell_type": "code",
   "execution_count": 13,
   "metadata": {},
   "outputs": [],
   "source": [
    "import selenium.webdriver as webdriver\n",
    "from bs4 import BeautifulSoup\n",
    "from time import sleep"
   ]
  },
  {
   "cell_type": "code",
   "execution_count": 18,
   "metadata": {},
   "outputs": [],
   "source": [
    "driver = webdriver.Chrome('chromedriver')"
   ]
  },
  {
   "cell_type": "code",
   "execution_count": 28,
   "metadata": {},
   "outputs": [],
   "source": [
    "instagram_url = \"https://www.instagram.com/p/CQnUq6bBjuv/\"\n",
    "\n",
    "driver.get(instagram_url)\n",
    "instagram_page = driver.page_source\n",
    "instagram_soup = BeautifulSoup(instagram_page, 'lxml')"
   ]
  },
  {
   "cell_type": "code",
   "execution_count": 30,
   "metadata": {},
   "outputs": [
    {
     "output_type": "execute_result",
     "data": {
      "text/plain": [
       "'좋아요 1,059개'"
      ]
     },
     "metadata": {},
     "execution_count": 30
    }
   ],
   "source": [
    "instagram_soup.find_all(attrs={'class':'Nm9Fw'})[0].text"
   ]
  },
  {
   "source": [
    "## Selenium을 이용한 melon 페이지 크롤링"
   ],
   "cell_type": "markdown",
   "metadata": {}
  },
  {
   "cell_type": "code",
   "execution_count": 21,
   "metadata": {},
   "outputs": [],
   "source": [
    "import selenium.webdriver as webdriver\n",
    "from bs4 import BeautifulSoup\n",
    "from time import sleep\n",
    "import requests\n",
    "import datetime\n",
    "\n",
    "import pandas as pd\n",
    "from tqdm import tqdm"
   ]
  },
  {
   "cell_type": "code",
   "execution_count": 2,
   "metadata": {},
   "outputs": [],
   "source": [
    "url = \"https://www.melon.com/chart/index.htm\"\n",
    "headers = {'user-agent': \"Mozilla/5.0 (Macintosh; Intel Mac OS X 10_15_7) AppleWebKit/605.1.15 (KHTML, like Gecko) Version/14.1.1 Safari/605.1.15\"}\n",
    "\n",
    "r = requests.get(url, headers=headers)\n",
    "soup = BeautifulSoup(r.text, 'html.parser')\n",
    "table = soup.find(\"table\", {\"border\": 1})"
   ]
  },
  {
   "cell_type": "code",
   "execution_count": 3,
   "metadata": {},
   "outputs": [],
   "source": [
    "driver = webdriver.Chrome('chromedriver')"
   ]
  },
  {
   "cell_type": "code",
   "execution_count": 4,
   "metadata": {},
   "outputs": [],
   "source": [
    "first_song = table.find_all(\"tr\")[1]['data-song-no']"
   ]
  },
  {
   "cell_type": "code",
   "execution_count": 5,
   "metadata": {},
   "outputs": [],
   "source": [
    "song_url = f\"https://www.melon.com/song/detail.htm?songId={first_song}\"\n",
    "\n",
    "driver.get(song_url)\n",
    "song_page = driver.page_source\n",
    "song_soup = BeautifulSoup(song_page, 'lxml')"
   ]
  },
  {
   "cell_type": "code",
   "execution_count": 19,
   "metadata": {},
   "outputs": [
    {
     "output_type": "stream",
     "name": "stdout",
     "text": [
      "If You Love Me (Feat. 주헌 (몬스타엑스))\nNS 윤지\nIf You Love Me (Feat. 주헌 (몬스타엑스))\n2021.05.22\n22,063\n279개\n2021-06-30 01:44:24.348118\n"
     ]
    }
   ],
   "source": [
    "print(song_soup.find(attrs={'class':'song_name'}).contents[2].strip())\n",
    "print(song_soup.find(attrs={'class':'artist_name'}).text)\n",
    "print(song_soup.find(attrs={'class':'list'}).contents[3].text)\n",
    "print(song_soup.find(attrs={'class':'list'}).contents[7].text)\n",
    "print(song_soup.find(attrs={'class':'cnt'}).text)\n",
    "print(song_soup.find(attrs={'id':'revCnt'}).text)\n",
    "print(datetime.datetime.now())"
   ]
  },
  {
   "cell_type": "code",
   "execution_count": 23,
   "metadata": {},
   "outputs": [
    {
     "output_type": "stream",
     "name": "stderr",
     "text": [
      "100%|██████████| 100/100 [03:28<00:00,  2.09s/it]\n"
     ]
    }
   ],
   "source": [
    "song_info = []\n",
    "\n",
    "for song in tqdm(table.find_all(\"tr\")[1:]):\n",
    "\n",
    "    song_id = song['data-song-no']\n",
    "    song_url = f\"https://www.melon.com/song/detail.htm?songId={song_id}\"\n",
    "\n",
    "    driver.get(song_url)\n",
    "    song_page = driver.page_source\n",
    "    song_soup = BeautifulSoup(song_page, 'lxml')\n",
    "\n",
    "    name = song_soup.find(attrs={'class':'song_name'}).contents[2].strip()\n",
    "    artist = song_soup.find(attrs={'class':'artist_name'}).text\n",
    "    album = song_soup.find(attrs={'class':'list'}).contents[3].text\n",
    "    released = song_soup.find(attrs={'class':'list'}).contents[7].text\n",
    "    likes = song_soup.find(attrs={'class':'cnt'}).text\n",
    "    comments = song_soup.find(attrs={'id':'revCnt'}).text\n",
    "    now = datetime.datetime.now()\n",
    "\n",
    "    song_info.append((song_id, name, artist, album, released, likes, comments, now))"
   ]
  },
  {
   "cell_type": "code",
   "execution_count": 24,
   "metadata": {},
   "outputs": [],
   "source": [
    "df = pd.DataFrame(song_info, \n",
    "                  columns=['id', 'name', 'artist', 'album', 'released date', 'likes', 'comments', 'time(now)'])"
   ]
  },
  {
   "cell_type": "code",
   "execution_count": 25,
   "metadata": {},
   "outputs": [
    {
     "output_type": "execute_result",
     "data": {
      "text/plain": [
       "          id                               name         artist  \\\n",
       "0   33625988                             바라만 본다  MSG워너비(M.O.M)   \n",
       "1   33487342                         Next Level          aespa   \n",
       "2   33625989                           나를 아는 사람   MSG워너비(정상동기)   \n",
       "3   33507137                             Butter          방탄소년단   \n",
       "4   33503722                              헤픈 우연    헤이즈 (Heize)   \n",
       "..       ...                                ...            ...   \n",
       "95  32122539                             Maniac     Conan Gray   \n",
       "96  30773554                      Downtown Baby      블루 (BLOO)   \n",
       "97  33430095                               기다릴게            하동균   \n",
       "98  31984204                                 안녕             폴킴   \n",
       "99  33508682  If You Love Me (Feat. 주헌 (몬스타엑스))          NS 윤지   \n",
       "\n",
       "                                album released date    likes comments  \\\n",
       "0                           MSG워너비 1집    2021.06.26   58,331   1,284개   \n",
       "1                          Next Level    2021.05.17  143,126   5,522개   \n",
       "2                           MSG워너비 1집    2021.06.26   43,628     651개   \n",
       "3                              Butter    2021.05.21  210,970   7,842개   \n",
       "4                              HAPPEN    2021.05.20  113,073     709개   \n",
       "..                                ...           ...      ...      ...   \n",
       "95                             Maniac    2019.10.25  132,424     370개   \n",
       "96                      Downtown Baby    2017.12.06  188,613   2,994개   \n",
       "97                               기다릴게    2021.04.22   20,841      78개   \n",
       "98                 호텔 델루나 OST Part.10    2019.08.12  192,361     524개   \n",
       "99  If You Love Me (Feat. 주헌 (몬스타엑스))    2021.05.22   22,065     279개   \n",
       "\n",
       "                    time(now)  \n",
       "0  2021-06-30 01:46:36.501554  \n",
       "1  2021-06-30 01:46:40.376135  \n",
       "2  2021-06-30 01:46:43.844464  \n",
       "3  2021-06-30 01:46:46.247625  \n",
       "4  2021-06-30 01:46:49.168828  \n",
       "..                        ...  \n",
       "95 2021-06-30 01:49:57.919073  \n",
       "96 2021-06-30 01:49:59.758389  \n",
       "97 2021-06-30 01:50:00.895671  \n",
       "98 2021-06-30 01:50:02.644946  \n",
       "99 2021-06-30 01:50:03.782924  \n",
       "\n",
       "[100 rows x 8 columns]"
      ],
      "text/html": "<div>\n<style scoped>\n    .dataframe tbody tr th:only-of-type {\n        vertical-align: middle;\n    }\n\n    .dataframe tbody tr th {\n        vertical-align: top;\n    }\n\n    .dataframe thead th {\n        text-align: right;\n    }\n</style>\n<table border=\"1\" class=\"dataframe\">\n  <thead>\n    <tr style=\"text-align: right;\">\n      <th></th>\n      <th>id</th>\n      <th>name</th>\n      <th>artist</th>\n      <th>album</th>\n      <th>released date</th>\n      <th>likes</th>\n      <th>comments</th>\n      <th>time(now)</th>\n    </tr>\n  </thead>\n  <tbody>\n    <tr>\n      <th>0</th>\n      <td>33625988</td>\n      <td>바라만 본다</td>\n      <td>MSG워너비(M.O.M)</td>\n      <td>MSG워너비 1집</td>\n      <td>2021.06.26</td>\n      <td>58,331</td>\n      <td>1,284개</td>\n      <td>2021-06-30 01:46:36.501554</td>\n    </tr>\n    <tr>\n      <th>1</th>\n      <td>33487342</td>\n      <td>Next Level</td>\n      <td>aespa</td>\n      <td>Next Level</td>\n      <td>2021.05.17</td>\n      <td>143,126</td>\n      <td>5,522개</td>\n      <td>2021-06-30 01:46:40.376135</td>\n    </tr>\n    <tr>\n      <th>2</th>\n      <td>33625989</td>\n      <td>나를 아는 사람</td>\n      <td>MSG워너비(정상동기)</td>\n      <td>MSG워너비 1집</td>\n      <td>2021.06.26</td>\n      <td>43,628</td>\n      <td>651개</td>\n      <td>2021-06-30 01:46:43.844464</td>\n    </tr>\n    <tr>\n      <th>3</th>\n      <td>33507137</td>\n      <td>Butter</td>\n      <td>방탄소년단</td>\n      <td>Butter</td>\n      <td>2021.05.21</td>\n      <td>210,970</td>\n      <td>7,842개</td>\n      <td>2021-06-30 01:46:46.247625</td>\n    </tr>\n    <tr>\n      <th>4</th>\n      <td>33503722</td>\n      <td>헤픈 우연</td>\n      <td>헤이즈 (Heize)</td>\n      <td>HAPPEN</td>\n      <td>2021.05.20</td>\n      <td>113,073</td>\n      <td>709개</td>\n      <td>2021-06-30 01:46:49.168828</td>\n    </tr>\n    <tr>\n      <th>...</th>\n      <td>...</td>\n      <td>...</td>\n      <td>...</td>\n      <td>...</td>\n      <td>...</td>\n      <td>...</td>\n      <td>...</td>\n      <td>...</td>\n    </tr>\n    <tr>\n      <th>95</th>\n      <td>32122539</td>\n      <td>Maniac</td>\n      <td>Conan Gray</td>\n      <td>Maniac</td>\n      <td>2019.10.25</td>\n      <td>132,424</td>\n      <td>370개</td>\n      <td>2021-06-30 01:49:57.919073</td>\n    </tr>\n    <tr>\n      <th>96</th>\n      <td>30773554</td>\n      <td>Downtown Baby</td>\n      <td>블루 (BLOO)</td>\n      <td>Downtown Baby</td>\n      <td>2017.12.06</td>\n      <td>188,613</td>\n      <td>2,994개</td>\n      <td>2021-06-30 01:49:59.758389</td>\n    </tr>\n    <tr>\n      <th>97</th>\n      <td>33430095</td>\n      <td>기다릴게</td>\n      <td>하동균</td>\n      <td>기다릴게</td>\n      <td>2021.04.22</td>\n      <td>20,841</td>\n      <td>78개</td>\n      <td>2021-06-30 01:50:00.895671</td>\n    </tr>\n    <tr>\n      <th>98</th>\n      <td>31984204</td>\n      <td>안녕</td>\n      <td>폴킴</td>\n      <td>호텔 델루나 OST Part.10</td>\n      <td>2019.08.12</td>\n      <td>192,361</td>\n      <td>524개</td>\n      <td>2021-06-30 01:50:02.644946</td>\n    </tr>\n    <tr>\n      <th>99</th>\n      <td>33508682</td>\n      <td>If You Love Me (Feat. 주헌 (몬스타엑스))</td>\n      <td>NS 윤지</td>\n      <td>If You Love Me (Feat. 주헌 (몬스타엑스))</td>\n      <td>2021.05.22</td>\n      <td>22,065</td>\n      <td>279개</td>\n      <td>2021-06-30 01:50:03.782924</td>\n    </tr>\n  </tbody>\n</table>\n<p>100 rows × 8 columns</p>\n</div>"
     },
     "metadata": {},
     "execution_count": 25
    }
   ],
   "source": [
    "df"
   ]
  },
  {
   "cell_type": "code",
   "execution_count": null,
   "metadata": {},
   "outputs": [],
   "source": []
  }
 ]
}