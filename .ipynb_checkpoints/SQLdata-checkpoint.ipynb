{
 "cells": [
  {
   "cell_type": "code",
   "execution_count": 1,
   "id": "404a06bc",
   "metadata": {},
   "outputs": [],
   "source": [
    "from attributes import *\n",
    "import mysql.connector"
   ]
  },
  {
   "cell_type": "code",
   "execution_count": 2,
   "id": "5c1b6a4e",
   "metadata": {},
   "outputs": [],
   "source": [
    "chartdb = mysql.connector.connect(\n",
    "    host = \"songdb.ck45skw5jvl2.ap-northeast-2.rds.amazonaws.com\",\n",
    "    user = \"geonho_sojeong\",\n",
    "    password = \"geonho&sojeong\",\n",
    "    database = \"chart\"\n",
    ")\n",
    "\n",
    "cursor = chartdb.cursor()"
   ]
  },
  {
   "cell_type": "markdown",
   "id": "e1266eec",
   "metadata": {},
   "source": [
    "## Table 추가(한 번만 실행하면 됨)"
   ]
  },
  {
   "cell_type": "code",
   "execution_count": 22,
   "id": "2ead4f7b",
   "metadata": {},
   "outputs": [],
   "source": [
    "# cursor.execute('''\n",
    "#     CREATE TABLE Song(\n",
    "#         sid           CHAR(8),\n",
    "#         name          VARCHAR(256),\n",
    "#         genre         VARCHAR(256),\n",
    "#         playtime      TIME,\n",
    "        \n",
    "#         PRIMARY KEY   (sid))\n",
    "# ''')"
   ]
  },
  {
   "cell_type": "code",
   "execution_count": 20,
   "id": "589249e8",
   "metadata": {},
   "outputs": [],
   "source": [
    "# cursor.execute('''\n",
    "#     CREATE TABLE Time(\n",
    "#         sid           CHAR(8),\n",
    "#         currentTime   DATETIME,\n",
    "#         ranking       INT,\n",
    "#         numPlays      INT,\n",
    "#         likes         INT,\n",
    "#         listeners     INT,\n",
    "#         comments      INT,\n",
    "        \n",
    "#         PRIMARY KEY   (sid, currentTime))   \n",
    "# ''')"
   ]
  },
  {
   "cell_type": "code",
   "execution_count": 24,
   "id": "e678c719",
   "metadata": {},
   "outputs": [],
   "source": [
    "# cursor.execute('''\n",
    "#     CREATE TABLE Album(\n",
    "#         aid           CHAR(8),\n",
    "#         name          VARCHAR(256),\n",
    "#         agency        VARCHAR(256),\n",
    "#         releasedDate  DATE,\n",
    "#         genre         VARCHAR(256),\n",
    "#         style         VARCHAR(10),\n",
    "        \n",
    "#         PRIMARY KEY   (aid))\n",
    "# ''')"
   ]
  },
  {
   "cell_type": "code",
   "execution_count": 25,
   "id": "1dd5af98",
   "metadata": {},
   "outputs": [],
   "source": [
    "# cursor.execute('''\n",
    "#     CREATE TABLE Musician(\n",
    "#         mid           CHAR(8),\n",
    "#         name          VARCHAR(256),\n",
    "#         debutDate     DATE,\n",
    "#         nationality   VARCHAR(256),\n",
    "        \n",
    "#         PRIMARY KEY   (mid))\n",
    "# ''')"
   ]
  },
  {
   "cell_type": "code",
   "execution_count": 26,
   "id": "2881de5b",
   "metadata": {},
   "outputs": [],
   "source": [
    "# cursor.execute('''\n",
    "#     CREATE TABLE Artist(\n",
    "#         mid           CHAR(8),\n",
    "#         name          VARCHAR(256),\n",
    "#         debutDate     DATE,\n",
    "#         nationality   VARCHAR(256),\n",
    "#         gender        VARCHAR(10),\n",
    "#         type          VARCHAR(10),\n",
    "        \n",
    "#         PRIMARY KEY   (mid))\n",
    "# ''')"
   ]
  },
  {
   "cell_type": "code",
   "execution_count": 27,
   "id": "69cd3b98",
   "metadata": {},
   "outputs": [],
   "source": [
    "# cursor.execute('''\n",
    "#     CREATE TABLE Sing(\n",
    "#         mid           CHAR(8),\n",
    "#         sid           CHAR(8),\n",
    "\n",
    "#         FOREIGN KEY(sid) REFERENCES Song(sid)   ON UPDATE CASCADE ON DELETE CASCADE,\n",
    "#         FOREIGN KEY(mid) REFERENCES Artist(mid) ON UPDATE CASCADE ON DELETE CASCADE)\n",
    "# ''')"
   ]
  },
  {
   "cell_type": "code",
   "execution_count": 28,
   "id": "982a887d",
   "metadata": {},
   "outputs": [],
   "source": [
    "# cursor.execute('''\n",
    "#     CREATE TABLE ComposedBy(\n",
    "#         sid           CHAR(8),\n",
    "#         mid           CHAR(8),\n",
    "        \n",
    "#         FOREIGN KEY(sid) REFERENCES Song(sid)     ON UPDATE CASCADE ON DELETE CASCADE,\n",
    "#         FOREIGN KEY(mid) REFERENCES Musician(mid) ON UPDATE CASCADE ON DELETE CASCADE)\n",
    "# ''')"
   ]
  },
  {
   "cell_type": "code",
   "execution_count": 29,
   "id": "396874c5",
   "metadata": {},
   "outputs": [],
   "source": [
    "# cursor.execute('''\n",
    "#     CREATE TABLE WrittenBy(\n",
    "#         sid           CHAR(8),\n",
    "#         mid           CHAR(8),\n",
    "        \n",
    "#         FOREIGN KEY(sid) REFERENCES Song(sid)     ON UPDATE CASCADE ON DELETE CASCADE,\n",
    "#         FOREIGN KEY(mid) REFERENCES Musician(mid) ON UPDATE CASCADE ON DELETE CASCADE)\n",
    "# ''')"
   ]
  },
  {
   "cell_type": "code",
   "execution_count": 30,
   "id": "faf2b7dc",
   "metadata": {},
   "outputs": [],
   "source": [
    "# cursor.execute('''\n",
    "#     CREATE TABLE ArrangedBy(\n",
    "#         sid           CHAR(8),\n",
    "#         mid           CHAR(8),\n",
    "        \n",
    "#         FOREIGN KEY(sid) REFERENCES Song(sid)     ON UPDATE CASCADE ON DELETE CASCADE,\n",
    "#         FOREIGN KEY(mid) REFERENCES Musician(mid) ON UPDATE CASCADE ON DELETE CASCADE)\n",
    "# ''')"
   ]
  },
  {
   "cell_type": "code",
   "execution_count": 33,
   "id": "ebc5dbde",
   "metadata": {},
   "outputs": [],
   "source": [
    "# cursor.execute('''\n",
    "#     CREATE TABLE Contain(\n",
    "#         aid           CHAR(8),\n",
    "#         sid           CHAR(8),\n",
    "        \n",
    "#         FOREIGN KEY(aid) REFERENCES Album(aid)  ON UPDATE CASCADE ON DELETE CASCADE)\n",
    "# ''')"
   ]
  },
  {
   "cell_type": "markdown",
   "id": "5cb408f9",
   "metadata": {},
   "source": [
    "## Crawling Data를 SQL에 저장"
   ]
  },
  {
   "cell_type": "code",
   "execution_count": 25,
   "id": "8b5a71e5",
   "metadata": {},
   "outputs": [
    {
     "data": {
      "text/plain": [
       "[]"
      ]
     },
     "execution_count": 25,
     "metadata": {},
     "output_type": "execute_result"
    }
   ],
   "source": [
    "cursor.execute(\"SET FOREIGN_KEY_CHECKS = 0;\")\n",
    "cursor.execute(\"TRUNCATE TABLE Time;\")\n",
    "cursor.execute(\"TRUNCATE TABLE Song;\")\n",
    "cursor.execute(\"TRUNCATE TABLE Artist;\")\n",
    "cursor.execute(\"SET FOREIGN_KEY_CHECKS = 1;\")\n",
    "cursor.execute(\"SELECT * FROM Time;\")\n",
    "cursor.fetchall()"
   ]
  },
  {
   "cell_type": "code",
   "execution_count": 5,
   "id": "eb3353bc",
   "metadata": {},
   "outputs": [],
   "source": [
    "song_ids = get_table()"
   ]
  },
  {
   "cell_type": "code",
   "execution_count": 3,
   "id": "4bd0aac6",
   "metadata": {},
   "outputs": [],
   "source": [
    "def exist(relation, attribute, key):\n",
    "    \n",
    "    fetch = f'''\n",
    "        SELECT  *\n",
    "        FROM    {relation} \n",
    "        WHERE   {attribute} = '{key}';\n",
    "    '''\n",
    "    \n",
    "    print(fetch)\n",
    "    cursor.execute(fetch)\n",
    "    \n",
    "    if cursor.fetchall() == []:\n",
    "        return False\n",
    "    \n",
    "    return True"
   ]
  },
  {
   "cell_type": "code",
   "execution_count": 4,
   "id": "c09533f5",
   "metadata": {},
   "outputs": [],
   "source": [
    "def insert(relation, values):\n",
    "    sql = f'INSERT INTO {relation} VALUES '\n",
    "    val = str(values)\n",
    "    \n",
    "    print(sql+val)\n",
    "    cursor.execute(sql + val)"
   ]
  },
  {
   "cell_type": "code",
   "execution_count": 24,
   "id": "171cc2c2",
   "metadata": {},
   "outputs": [],
   "source": [
    "def saveArtist(sid, mid):\n",
    "    if not exist('Artist', 'mid', 'mid'):\n",
    "        artist = musician_page(mid)\n",
    "        artist.set_attributes()\n",
    "        \n",
    "        insert('Artist', artist.get_attributes())\n",
    "        insert('Sing', (mid, sid))"
   ]
  },
  {
   "cell_type": "code",
   "execution_count": 16,
   "id": "88c251a2",
   "metadata": {},
   "outputs": [],
   "source": [
    "def saveMusician(sid, mid, cls):\n",
    "    if not exist('Musician', 'mid', mid):\n",
    "        musician = musician_page(mid)\n",
    "        musician.set_attributes()\n",
    "        \n",
    "        related_attrs = {'Lyricist' : 'WrittenBy',\n",
    "                         'Composer' : 'ComposedBy',\n",
    "                         'Arranger' : 'ArrangedBy'}\n",
    "                \n",
    "        insert('Musician', musician.get_attributes()[:4])   \n",
    "        insert(related_attrs[cls], (sid, mid))"
   ]
  },
  {
   "cell_type": "code",
   "execution_count": 6,
   "id": "dd151feb",
   "metadata": {},
   "outputs": [],
   "source": [
    "def saveAlbum(sid, aid):\n",
    "    if not exist('Album', 'aid', aid):\n",
    "        album = album_page(aid)\n",
    "        album.set_attributes()\n",
    "        \n",
    "        insert(album, album.get_attributes())\n",
    "        if track in album.tracks:\n",
    "            insert('Contain', (aid, track))"
   ]
  },
  {
   "cell_type": "code",
   "execution_count": 20,
   "id": "bcf57bb0",
   "metadata": {},
   "outputs": [],
   "source": [
    "def saveSong(sid):\n",
    "    if not exist('Song', 'sid', sid):\n",
    "        insert('Song', song.get_attributes())\n",
    "        \n",
    "        saveArtist(sid, song.artist)\n",
    "        saveAlbum(aid, song.album)\n",
    "        \n",
    "        for mid in song.lyricists:\n",
    "            saveMusician(sid, mid, cls='Lyricist')\n",
    "        for mid in song.composers:\n",
    "            saveMusician(sid, mid, cls='Composer')\n",
    "        for mid in song.arrangers:\n",
    "            saveMusician(sid, mid, cls='Arranger')\n",
    "        "
   ]
  },
  {
   "cell_type": "code",
   "execution_count": null,
   "id": "77639490",
   "metadata": {},
   "outputs": [],
   "source": [
    "for rank, sid in tqdm(enumerate(song_ids)):\n",
    "    \n",
    "    song = song_page(sid, rank + 1)\n",
    "    song.set_attributes()\n",
    "    \n",
    "    insert('Time', song.time_attributes())\n",
    "    saveSong(sid)"
   ]
  },
  {
   "cell_type": "markdown",
   "id": "fb283326",
   "metadata": {},
   "source": [
    "### 곡 하나에 대해 test"
   ]
  },
  {
   "cell_type": "code",
   "execution_count": 26,
   "id": "d6026d28",
   "metadata": {},
   "outputs": [
    {
     "name": "stdout",
     "output_type": "stream",
     "text": [
      "INSERT INTO Time VALUES (93300145, '2021-07-20 22:00:00', 2, 10460438, 21864, 940213, 171)\n",
      "\n",
      "        SELECT  *\n",
      "        FROM    Song \n",
      "        WHERE   sid = '93300145';\n",
      "    \n",
      "INSERT INTO Song VALUES (93300145, '신호등', '가요 / 락', '0:03:52')\n",
      "\n",
      "        SELECT  *\n",
      "        FROM    Artist \n",
      "        WHERE   mid = 'mid';\n",
      "    \n",
      "INSERT INTO Artist VALUES ('80632742', '이무진', '2018', '한국', '남성', '솔로')\n"
     ]
    },
    {
     "ename": "IntegrityError",
     "evalue": "1062 (23000): Duplicate entry '80632742' for key 'Artist.PRIMARY'",
     "output_type": "error",
     "traceback": [
      "\u001b[0;31m---------------------------------------------------------------------------\u001b[0m",
      "\u001b[0;31mIntegrityError\u001b[0m                            Traceback (most recent call last)",
      "\u001b[0;32m/tmp/ipykernel_28076/3061437776.py\u001b[0m in \u001b[0;36m<module>\u001b[0;34m\u001b[0m\n\u001b[1;32m      5\u001b[0m \u001b[0;34m\u001b[0m\u001b[0m\n\u001b[1;32m      6\u001b[0m \u001b[0minsert\u001b[0m\u001b[0;34m(\u001b[0m\u001b[0;34m'Time'\u001b[0m\u001b[0;34m,\u001b[0m \u001b[0msong\u001b[0m\u001b[0;34m.\u001b[0m\u001b[0mtime_attributes\u001b[0m\u001b[0;34m(\u001b[0m\u001b[0;34m)\u001b[0m\u001b[0;34m)\u001b[0m\u001b[0;34m\u001b[0m\u001b[0;34m\u001b[0m\u001b[0m\n\u001b[0;32m----> 7\u001b[0;31m \u001b[0msaveSong\u001b[0m\u001b[0;34m(\u001b[0m\u001b[0msid\u001b[0m\u001b[0;34m)\u001b[0m\u001b[0;34m\u001b[0m\u001b[0;34m\u001b[0m\u001b[0m\n\u001b[0m",
      "\u001b[0;32m/tmp/ipykernel_28076/112820336.py\u001b[0m in \u001b[0;36msaveSong\u001b[0;34m(sid)\u001b[0m\n\u001b[1;32m      3\u001b[0m         \u001b[0minsert\u001b[0m\u001b[0;34m(\u001b[0m\u001b[0;34m'Song'\u001b[0m\u001b[0;34m,\u001b[0m \u001b[0msong\u001b[0m\u001b[0;34m.\u001b[0m\u001b[0mget_attributes\u001b[0m\u001b[0;34m(\u001b[0m\u001b[0;34m)\u001b[0m\u001b[0;34m)\u001b[0m\u001b[0;34m\u001b[0m\u001b[0;34m\u001b[0m\u001b[0m\n\u001b[1;32m      4\u001b[0m \u001b[0;34m\u001b[0m\u001b[0m\n\u001b[0;32m----> 5\u001b[0;31m         \u001b[0msaveArtist\u001b[0m\u001b[0;34m(\u001b[0m\u001b[0msid\u001b[0m\u001b[0;34m,\u001b[0m \u001b[0msong\u001b[0m\u001b[0;34m.\u001b[0m\u001b[0martist\u001b[0m\u001b[0;34m)\u001b[0m\u001b[0;34m\u001b[0m\u001b[0;34m\u001b[0m\u001b[0m\n\u001b[0m\u001b[1;32m      6\u001b[0m         \u001b[0msaveAlbum\u001b[0m\u001b[0;34m(\u001b[0m\u001b[0maid\u001b[0m\u001b[0;34m,\u001b[0m \u001b[0msong\u001b[0m\u001b[0;34m.\u001b[0m\u001b[0malbum\u001b[0m\u001b[0;34m)\u001b[0m\u001b[0;34m\u001b[0m\u001b[0;34m\u001b[0m\u001b[0m\n\u001b[1;32m      7\u001b[0m \u001b[0;34m\u001b[0m\u001b[0m\n",
      "\u001b[0;32m/tmp/ipykernel_28076/973321476.py\u001b[0m in \u001b[0;36msaveArtist\u001b[0;34m(sid, mid)\u001b[0m\n\u001b[1;32m      4\u001b[0m         \u001b[0martist\u001b[0m\u001b[0;34m.\u001b[0m\u001b[0mset_attributes\u001b[0m\u001b[0;34m(\u001b[0m\u001b[0;34m)\u001b[0m\u001b[0;34m\u001b[0m\u001b[0;34m\u001b[0m\u001b[0m\n\u001b[1;32m      5\u001b[0m \u001b[0;34m\u001b[0m\u001b[0m\n\u001b[0;32m----> 6\u001b[0;31m         \u001b[0minsert\u001b[0m\u001b[0;34m(\u001b[0m\u001b[0;34m'Artist'\u001b[0m\u001b[0;34m,\u001b[0m \u001b[0martist\u001b[0m\u001b[0;34m.\u001b[0m\u001b[0mget_attributes\u001b[0m\u001b[0;34m(\u001b[0m\u001b[0;34m)\u001b[0m\u001b[0;34m)\u001b[0m\u001b[0;34m\u001b[0m\u001b[0;34m\u001b[0m\u001b[0m\n\u001b[0m\u001b[1;32m      7\u001b[0m         \u001b[0minsert\u001b[0m\u001b[0;34m(\u001b[0m\u001b[0;34m'Sing'\u001b[0m\u001b[0;34m,\u001b[0m \u001b[0;34m(\u001b[0m\u001b[0mmid\u001b[0m\u001b[0;34m,\u001b[0m \u001b[0msid\u001b[0m\u001b[0;34m)\u001b[0m\u001b[0;34m)\u001b[0m\u001b[0;34m\u001b[0m\u001b[0;34m\u001b[0m\u001b[0m\n",
      "\u001b[0;32m/tmp/ipykernel_28076/3955807031.py\u001b[0m in \u001b[0;36minsert\u001b[0;34m(relation, values)\u001b[0m\n\u001b[1;32m      4\u001b[0m \u001b[0;34m\u001b[0m\u001b[0m\n\u001b[1;32m      5\u001b[0m     \u001b[0mprint\u001b[0m\u001b[0;34m(\u001b[0m\u001b[0msql\u001b[0m\u001b[0;34m+\u001b[0m\u001b[0mval\u001b[0m\u001b[0;34m)\u001b[0m\u001b[0;34m\u001b[0m\u001b[0;34m\u001b[0m\u001b[0m\n\u001b[0;32m----> 6\u001b[0;31m     \u001b[0mcursor\u001b[0m\u001b[0;34m.\u001b[0m\u001b[0mexecute\u001b[0m\u001b[0;34m(\u001b[0m\u001b[0msql\u001b[0m \u001b[0;34m+\u001b[0m \u001b[0mval\u001b[0m\u001b[0;34m)\u001b[0m\u001b[0;34m\u001b[0m\u001b[0;34m\u001b[0m\u001b[0m\n\u001b[0m",
      "\u001b[0;32m~/.local/lib/python3.8/site-packages/mysql/connector/cursor.py\u001b[0m in \u001b[0;36mexecute\u001b[0;34m(self, operation, params, multi)\u001b[0m\n\u001b[1;32m    549\u001b[0m         \u001b[0;32melse\u001b[0m\u001b[0;34m:\u001b[0m\u001b[0;34m\u001b[0m\u001b[0;34m\u001b[0m\u001b[0m\n\u001b[1;32m    550\u001b[0m             \u001b[0;32mtry\u001b[0m\u001b[0;34m:\u001b[0m\u001b[0;34m\u001b[0m\u001b[0;34m\u001b[0m\u001b[0m\n\u001b[0;32m--> 551\u001b[0;31m                 \u001b[0mself\u001b[0m\u001b[0;34m.\u001b[0m\u001b[0m_handle_result\u001b[0m\u001b[0;34m(\u001b[0m\u001b[0mself\u001b[0m\u001b[0;34m.\u001b[0m\u001b[0m_connection\u001b[0m\u001b[0;34m.\u001b[0m\u001b[0mcmd_query\u001b[0m\u001b[0;34m(\u001b[0m\u001b[0mstmt\u001b[0m\u001b[0;34m)\u001b[0m\u001b[0;34m)\u001b[0m\u001b[0;34m\u001b[0m\u001b[0;34m\u001b[0m\u001b[0m\n\u001b[0m\u001b[1;32m    552\u001b[0m             \u001b[0;32mexcept\u001b[0m \u001b[0merrors\u001b[0m\u001b[0;34m.\u001b[0m\u001b[0mInterfaceError\u001b[0m\u001b[0;34m:\u001b[0m\u001b[0;34m\u001b[0m\u001b[0;34m\u001b[0m\u001b[0m\n\u001b[1;32m    553\u001b[0m                 \u001b[0;32mif\u001b[0m \u001b[0mself\u001b[0m\u001b[0;34m.\u001b[0m\u001b[0m_connection\u001b[0m\u001b[0;34m.\u001b[0m\u001b[0m_have_next_result\u001b[0m\u001b[0;34m:\u001b[0m  \u001b[0;31m# pylint: disable=W0212\u001b[0m\u001b[0;34m\u001b[0m\u001b[0;34m\u001b[0m\u001b[0m\n",
      "\u001b[0;32m~/.local/lib/python3.8/site-packages/mysql/connector/connection.py\u001b[0m in \u001b[0;36mcmd_query\u001b[0;34m(self, query, raw, buffered, raw_as_string)\u001b[0m\n\u001b[1;32m    488\u001b[0m         \u001b[0;32mif\u001b[0m \u001b[0;32mnot\u001b[0m \u001b[0misinstance\u001b[0m\u001b[0;34m(\u001b[0m\u001b[0mquery\u001b[0m\u001b[0;34m,\u001b[0m \u001b[0mbytes\u001b[0m\u001b[0;34m)\u001b[0m\u001b[0;34m:\u001b[0m\u001b[0;34m\u001b[0m\u001b[0;34m\u001b[0m\u001b[0m\n\u001b[1;32m    489\u001b[0m             \u001b[0mquery\u001b[0m \u001b[0;34m=\u001b[0m \u001b[0mquery\u001b[0m\u001b[0;34m.\u001b[0m\u001b[0mencode\u001b[0m\u001b[0;34m(\u001b[0m\u001b[0;34m'utf-8'\u001b[0m\u001b[0;34m)\u001b[0m\u001b[0;34m\u001b[0m\u001b[0;34m\u001b[0m\u001b[0m\n\u001b[0;32m--> 490\u001b[0;31m         \u001b[0mresult\u001b[0m \u001b[0;34m=\u001b[0m \u001b[0mself\u001b[0m\u001b[0;34m.\u001b[0m\u001b[0m_handle_result\u001b[0m\u001b[0;34m(\u001b[0m\u001b[0mself\u001b[0m\u001b[0;34m.\u001b[0m\u001b[0m_send_cmd\u001b[0m\u001b[0;34m(\u001b[0m\u001b[0mServerCmd\u001b[0m\u001b[0;34m.\u001b[0m\u001b[0mQUERY\u001b[0m\u001b[0;34m,\u001b[0m \u001b[0mquery\u001b[0m\u001b[0;34m)\u001b[0m\u001b[0;34m)\u001b[0m\u001b[0;34m\u001b[0m\u001b[0;34m\u001b[0m\u001b[0m\n\u001b[0m\u001b[1;32m    491\u001b[0m \u001b[0;34m\u001b[0m\u001b[0m\n\u001b[1;32m    492\u001b[0m         \u001b[0;32mif\u001b[0m \u001b[0mself\u001b[0m\u001b[0;34m.\u001b[0m\u001b[0m_have_next_result\u001b[0m\u001b[0;34m:\u001b[0m\u001b[0;34m\u001b[0m\u001b[0;34m\u001b[0m\u001b[0m\n",
      "\u001b[0;32m~/.local/lib/python3.8/site-packages/mysql/connector/connection.py\u001b[0m in \u001b[0;36m_handle_result\u001b[0;34m(self, packet)\u001b[0m\n\u001b[1;32m    393\u001b[0m             \u001b[0;32mreturn\u001b[0m \u001b[0mself\u001b[0m\u001b[0;34m.\u001b[0m\u001b[0m_handle_eof\u001b[0m\u001b[0;34m(\u001b[0m\u001b[0mpacket\u001b[0m\u001b[0;34m)\u001b[0m\u001b[0;34m\u001b[0m\u001b[0;34m\u001b[0m\u001b[0m\n\u001b[1;32m    394\u001b[0m         \u001b[0;32melif\u001b[0m \u001b[0mpacket\u001b[0m\u001b[0;34m[\u001b[0m\u001b[0;36m4\u001b[0m\u001b[0;34m]\u001b[0m \u001b[0;34m==\u001b[0m \u001b[0;36m255\u001b[0m\u001b[0;34m:\u001b[0m\u001b[0;34m\u001b[0m\u001b[0;34m\u001b[0m\u001b[0m\n\u001b[0;32m--> 395\u001b[0;31m             \u001b[0;32mraise\u001b[0m \u001b[0merrors\u001b[0m\u001b[0;34m.\u001b[0m\u001b[0mget_exception\u001b[0m\u001b[0;34m(\u001b[0m\u001b[0mpacket\u001b[0m\u001b[0;34m)\u001b[0m\u001b[0;34m\u001b[0m\u001b[0;34m\u001b[0m\u001b[0m\n\u001b[0m\u001b[1;32m    396\u001b[0m \u001b[0;34m\u001b[0m\u001b[0m\n\u001b[1;32m    397\u001b[0m         \u001b[0;31m# We have a text result set\u001b[0m\u001b[0;34m\u001b[0m\u001b[0;34m\u001b[0m\u001b[0;34m\u001b[0m\u001b[0m\n",
      "\u001b[0;31mIntegrityError\u001b[0m: 1062 (23000): Duplicate entry '80632742' for key 'Artist.PRIMARY'"
     ]
    }
   ],
   "source": [
    "sid = 93300145\n",
    "\n",
    "song = song_page(sid, 2)\n",
    "song.set_attributes()\n",
    "\n",
    "insert('Time', song.time_attributes())\n",
    "saveSong(sid)"
   ]
  },
  {
   "cell_type": "code",
   "execution_count": null,
   "id": "6bedaeb9",
   "metadata": {},
   "outputs": [],
   "source": []
  },
  {
   "cell_type": "code",
   "execution_count": 22,
   "id": "07004997",
   "metadata": {},
   "outputs": [
    {
     "name": "stderr",
     "output_type": "stream",
     "text": [
      "$DISPLAY was already unset.\n"
     ]
    },
    {
     "data": {
      "text/plain": [
       "<pyvirtualdisplay.display.Display at 0x7efcf4643970>"
      ]
     },
     "execution_count": 22,
     "metadata": {},
     "output_type": "execute_result"
    }
   ],
   "source": [
    "driver.quit()\n",
    "display.stop()"
   ]
  },
  {
   "cell_type": "code",
   "execution_count": null,
   "id": "8305cf25",
   "metadata": {},
   "outputs": [],
   "source": []
  }
 ],
 "metadata": {
  "kernelspec": {
   "display_name": "Python 3 (ipykernel)",
   "language": "python",
   "name": "python3"
  },
  "language_info": {
   "codemirror_mode": {
    "name": "ipython",
    "version": 3
   },
   "file_extension": ".py",
   "mimetype": "text/x-python",
   "name": "python",
   "nbconvert_exporter": "python",
   "pygments_lexer": "ipython3",
   "version": "3.8.10"
  }
 },
 "nbformat": 4,
 "nbformat_minor": 5
}
