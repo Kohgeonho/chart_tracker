{
 "cells": [
  {
   "cell_type": "code",
   "execution_count": 1,
   "metadata": {},
   "outputs": [],
   "source": [
    "import requests\n",
    "from bs4 import BeautifulSoup"
   ]
  },
  {
   "cell_type": "code",
   "execution_count": 2,
   "metadata": {},
   "outputs": [],
   "source": [
    "import pandas"
   ]
  },
  {
   "cell_type": "code",
   "execution_count": 3,
   "metadata": {
    "tags": []
   },
   "outputs": [],
   "source": [
    "url = \"https://www.melon.com/chart/index.htm\"\n",
    "headers = {'user-agent': \"Mozilla/5.0 (Macintosh; Intel Mac OS X 10_15_7) AppleWebKit/605.1.15 (KHTML, like Gecko) Version/14.1.1 Safari/605.1.15\"}\n",
    "\n",
    "r = requests.get(url, headers=headers)\n",
    "soup = BeautifulSoup(r.text, 'html.parser')"
   ]
  },
  {
   "cell_type": "code",
   "execution_count": 4,
   "metadata": {},
   "outputs": [],
   "source": [
    "titles = soup.find_all(\"div\", {\"class\": \"ellipsis rank01\"}) \n",
    "singers = soup.find_all(\"div\", {\"class\": \"ellipsis rank02\"}) \n",
    "albums = soup.find_all(\"div\", {\"class\": \"ellipsis rank03\"})"
   ]
  },
  {
   "cell_type": "code",
   "execution_count": 5,
   "metadata": {},
   "outputs": [
    {
     "name": "stdout",
     "output_type": "stream",
     "text": [
      "바라만 본다 MSG워너비(M.O.M) MSG워너비 1집\n",
      "Next Level aespa Next Level\n",
      "나를 아는 사람 MSG워너비(정상동기) MSG워너비 1집\n",
      "Butter 방탄소년단 Butter\n",
      "헤픈 우연 헤이즈 (Heize) HAPPEN\n",
      "치맛바람 (Chi Mat Ba Ram) 브레이브걸스 Summer Queen\n",
      "Dun Dun Dance 오마이걸 (OH MY GIRL) Dear OHMYGIRL\n",
      "Peaches (Feat. Daniel Caesar & Giveon) Justin Bieber Justice\n",
      "롤린 (Rollin') 브레이브걸스 Rollin'\n",
      "Alcohol-Free TWICE (트와이스) Taste of Love\n",
      "ASAP STAYC(스테이씨) STAYDOM\n",
      "라일락 아이유 IU 5th Album 'LILAC'\n",
      "운전만해 (We Ride) 브레이브걸스 We Ride\n",
      "Dynamite 방탄소년단 Dynamite (DayTime Version)\n",
      "안녕 (Hello) 조이 (JOY) 안녕 (Hello) - Special Album\n",
      "Celebrity 아이유 IU 5th Album 'LILAC'\n",
      "상상더하기 MSG워너비 TOP 8 (별루지, 김정수, 강창모, 정기석, 이동휘, 이상이, 박재정, 원슈타인) MSG워너비 TOP 8 경연곡\n",
      "신호등 이무진 신호등\n",
      "비와 당신 이무진 슬기로운 의사생활 시즌2 OST Part 1\n",
      "사이렌 Remix (Feat. UNEDUCATED KID, Paul Blanco) 호미들 사이렌 Remix\n",
      "Timeless SG 워너비 Sg Wanna Be+\n",
      "상상더하기 라붐 (LABOUM) Fresh Adventure\n",
      "내 손을 잡아 아이유 최고의 사랑 OST Part.4\n",
      "멜로디 ASH ISLAND 멜로디\n",
      "밝게 빛나는 별이 되어 비춰줄게 송이한 밝게 빛나는 별이 되어 비춰줄게\n",
      "마.피.아. In the morning ITZY (있지) GUESS WHO\n",
      "라라라 SG 워너비 My Friend\n",
      "밤하늘의 별을(2020) 경서 밤하늘의 별을(2020)\n",
      "LOVE DAY (2021) (바른연애 길잡이 X 양요섭, 정은지) 양요섭, 정은지 LOVE DAY (2021) (바른연애 길잡이 X 양요섭, 정은지)\n",
      "Savage Love (Laxed - Siren Beat) (BTS Remix) Jawsh 685, Jason Derulo, 방탄소년단 Savage Love (Laxed - Siren Beat) [BTS Remix]\n",
      "하루만 더 빅마마 하루만 더\n",
      "Lovesick Girls BLACKPINK THE ALBUM\n",
      "잠이 오질 않네요 장범준 잠이 오질 않네요\n",
      "Dolphin 오마이걸 (OH MY GIRL) NONSTOP\n",
      "Coin 아이유 IU 5th Album 'LILAC'\n",
      "에잇(Prod.&Feat. SUGA of BTS) 아이유 에잇\n",
      "내사람 SG 워너비 The Precious History\n",
      "Blueming 아이유 Love poem\n",
      "작은 것들을 위한 시 (Boy With Luv) (Feat. Halsey) 방탄소년단 MAP OF THE SOUL : PERSONA\n",
      "취기를 빌려 (취향저격 그녀 X 산들) 산들 취기를 빌려 (취향저격 그녀 X 산들)\n",
      "어떻게 이별까지 사랑하겠어, 널 사랑하는 거지 AKMU (악동뮤지션) 항해\n",
      "추억은 만남보다 이별에 남아 정동하 추억은 만남보다 이별에 남아\n",
      "On The Ground 로제 (ROSÉ) R\n",
      "Off My Face Justin Bieber Justice\n",
      "VVS (Feat. JUSTHIS) (Prod. GroovyRoom) 미란이 (Mirani), 먼치맨(MUNCHMAN), Khundi Panda, 머쉬베놈 (MUSHVENOM) 쇼미더머니 9 Episode 1\n",
      "아로하 조정석 슬기로운 의사생활 OST Part 3\n",
      "어푸 (Ah puh) 아이유 IU 5th Album 'LILAC'\n",
      "나랑 같이 걸을래 (바른연애 길잡이 X 적재) 적재 나랑 같이 걸을래 (바른연애 길잡이 X 적재)\n",
      "그날에 나는 맘이 편했을까 이예준 그날에 나는 맘이 편했을까\n",
      "Life Goes On 방탄소년단 BE\n",
      "봄날 방탄소년단 YOU NEVER WALK ALONE\n",
      "12:45 (Stripped) Etham 12:45 (Stripped)\n",
      "2002 Anne-Marie Speak Your Mind (Deluxe)\n",
      "흔들리는 꽃들 속에서 네 샴푸향이 느껴진거야 장범준 멜로가 체질 OST Part 3\n",
      "METEOR 창모 (CHANGMO) Boyhood\n",
      "허리춤 오반 (OVAN) 허리춤\n",
      "체념 MSG워너비(정상동기) MSG워너비 TOP 8 경연곡\n",
      "모든 날, 모든 순간 (Every day, Every Moment) 폴킴 '키스 먼저 할까요?' OST Part.3\n",
      "가을 우체국 앞에서 김대명 슬기로운 의사생활 시즌2 OST Part 2\n",
      "오래된 노래 스탠딩 에그 오래된 노래\n",
      "그냥 안아달란 말야 다비치 그냥 안아달란 말야\n",
      "너의 번호를 누르고 (Prod. 영화처럼) #안녕 너의 번호를 누르고\n",
      "어떻게 지내 (Prod. By VAN.C) 오반 (OVAN) 어떻게 지내\n",
      "살짝 설렜어 (Nonstop) 오마이걸 (OH MY GIRL) NONSTOP\n",
      "다정히 내 이름을 부르면 경서예지, 전건호 다정히 내 이름을 부르면 (경서예지 x 전건호)\n",
      "Memories Maroon 5 JORDI (Deluxe)\n",
      "이 밤을 빌려 말해요 (바른연애 길잡이 X 10CM) 10CM 이 밤을 빌려 말해요 (바른연애 길잡이 X 10CM)\n",
      "오늘도 빛나는 너에게 (To You My Light) (Feat.이라온) 마크툽 (MAKTUB) Red Moon : To You My Light\n",
      "해야 해 2PM MUST\n",
      "사실 나는 (Feat.전건호) 경서예지 사실 나는\n",
      "늦은 밤 너의 집 앞 골목길에서 노을 늦은 밤 너의 집 앞 골목길에서\n",
      "추적이는 여름 비가 되어 장범준 장범준 싱글\n",
      "오늘따라 더 미운 그대가 전상근 오늘따라 더 미운 그대가\n",
      "How You Like That BLACKPINK How You Like That\n",
      "힘든 건 사랑이 아니다 임창정 힘든 건 사랑이 아니다\n",
      "살다가 SG 워너비 살다가\n",
      "이렇게 좋아해 본 적이 없어요 CHEEZE (치즈) 이렇게 좋아해 본 적이 없어요 (소녀의 세계 X CHEEZE(치즈))\n",
      "Hello Future NCT DREAM Hello Future - The 1st Album Repackage\n",
      "이제 나만 믿어요 임영웅 내일은 미스터트롯 우승자 특전곡\n",
      "너의 발걸음에 빛을 비춰줄게 (Prod. 조영수) 케이시 (Kassy) 너의 발걸음에 빛을 비춰줄게 (Prod. 조영수)\n",
      "Dance Monkey Tones And I The Kids Are Coming\n",
      "마음을 드려요 아이유 사랑의 불시착 OST Part 11\n",
      "Love poem 아이유 Love poem\n",
      "너를 만나 폴킴 너를 만나\n",
      "Paris In The Rain Lauv I met you when I was 18. (the playlist)\n",
      "맛 (Hot Sauce) NCT DREAM 맛 (Hot Sauce) - The 1st Album\n",
      "내 마음이 움찔했던 순간 (취향저격 그녀 X 규현) 규현 (KYUHYUN) 내 마음이 움찔했던 순간 (취향저격 그녀 X 규현)\n",
      "우린 어쩌다 헤어진 걸까 허각 Hello\n",
      "아이와 나의 바다 아이유 IU 5th Album 'LILAC'\n",
      "우리 왜 헤어져야 해 신예영 우리 왜 헤어져야 해\n",
      "When We Disco (Duet with 선미) 박진영 When We Disco\n",
      "시작 가호 (Gaho) 이태원 클라쓰 OST Part.2\n",
      "함께 했는데 이별은 나 혼자인 거야 소정 (레이디스 코드) 함께 했는데 이별은 나 혼자인 거야\n",
      "Don't Start Now Dua Lipa Future Nostalgia\n",
      "고백 (바른연애 길잡이 X 허각) 허각 고백 (바른연애 길잡이 X 허각)\n",
      "Maniac Conan Gray Maniac\n",
      "Downtown Baby 블루 (BLOO) Downtown Baby\n",
      "기다릴게 하동균, 봉구 기다릴게\n",
      "안녕 폴킴 호텔 델루나 OST Part.10\n",
      "If You Love Me (Feat. 주헌 (몬스타엑스)) NS 윤지 If You Love Me (Feat. 주헌 (몬스타엑스))\n"
     ]
    }
   ],
   "source": [
    "for t, s, a in zip(titles, singers, albums):\n",
    "    print(t.find('a').text, end=' ')\n",
    "    print(s.find('span', {\"class\": \"checkEllipsis\"}).text, end=' ')\n",
    "    print(a.find('a').text)\n"
   ]
  },
  {
   "cell_type": "markdown",
   "metadata": {},
   "source": [
    "## Link로 접속해서 crawling하기"
   ]
  },
  {
   "cell_type": "code",
   "execution_count": 6,
   "metadata": {},
   "outputs": [],
   "source": [
    "url = \"https://www.melon.com/chart/index.htm\"\n",
    "headers = {'user-agent': \"Mozilla/5.0 (Macintosh; Intel Mac OS X 10_15_7) AppleWebKit/605.1.15 (KHTML, like Gecko) Version/14.1.1 Safari/605.1.15\"}\n",
    "\n",
    "r = requests.get(url, headers=headers)\n",
    "soup = BeautifulSoup(r.text, 'html.parser')"
   ]
  },
  {
   "cell_type": "code",
   "execution_count": 7,
   "metadata": {},
   "outputs": [],
   "source": [
    "table = soup.find(\"table\", {\"border\": 1})"
   ]
  },
  {
   "cell_type": "code",
   "execution_count": 8,
   "metadata": {
    "tags": []
   },
   "outputs": [
    {
     "name": "stdout",
     "output_type": "stream",
     "text": [
      "33625988\n"
     ]
    }
   ],
   "source": [
    "first_song = table.find_all(\"tr\")[1]['data-song-no']\n",
    "print(first_song)"
   ]
  },
  {
   "cell_type": "code",
   "execution_count": 9,
   "metadata": {},
   "outputs": [],
   "source": [
    "song_url = f\"https://www.melon.com/song/detail.htm?songId={first_song}\"\n",
    "\n",
    "song_request = requests.get(song_url, headers=headers)\n",
    "song_page = BeautifulSoup(song_request.text, 'html.parser')"
   ]
  },
  {
   "cell_type": "code",
   "execution_count": 10,
   "metadata": {},
   "outputs": [
    {
     "data": {
      "text/plain": [
       "'바라만 본다'"
      ]
     },
     "execution_count": 10,
     "metadata": {},
     "output_type": "execute_result"
    }
   ],
   "source": [
    "song_title = song_page.find(\"div\", {\"class\": \"song_name\"})\n",
    "song_title.contents[2].strip()"
   ]
  },
  {
   "cell_type": "code",
   "execution_count": 11,
   "metadata": {},
   "outputs": [
    {
     "data": {
      "text/plain": [
       "'MSG워너비(M.O.M)'"
      ]
     },
     "execution_count": 11,
     "metadata": {},
     "output_type": "execute_result"
    }
   ],
   "source": [
    "song_artist = song_page.find(\"a\", {\"class\": \"artist_name\"}).text\n",
    "song_artist"
   ]
  },
  {
   "cell_type": "code",
   "execution_count": 12,
   "metadata": {},
   "outputs": [
    {
     "data": {
      "text/plain": [
       "'총건수\\r\\n\\t\\t\\t\\t\\t\\t\\t\\t\\t\\t\\t0'"
      ]
     },
     "execution_count": 12,
     "metadata": {},
     "output_type": "execute_result"
    }
   ],
   "source": [
    "song_like = song_page.find(\"div\", {\"class\":\"button d_song_like\"}).find(\"span\", {\"class\": \"cnt\"}).text\n",
    "song_like.strip()"
   ]
  },
  {
   "cell_type": "markdown",
   "metadata": {},
   "source": [
    "## instagram 좋아요수 크롤링 시도"
   ]
  },
  {
   "cell_type": "code",
   "execution_count": 13,
   "metadata": {},
   "outputs": [],
   "source": [
    "import selenium.webdriver as webdriver\n",
    "from bs4 import BeautifulSoup\n",
    "from time import sleep"
   ]
  },
  {
   "cell_type": "code",
   "execution_count": 18,
   "metadata": {},
   "outputs": [],
   "source": [
    "driver = webdriver.Chrome('chromedriver')"
   ]
  },
  {
   "cell_type": "code",
   "execution_count": 28,
   "metadata": {},
   "outputs": [],
   "source": [
    "instagram_url = \"https://www.instagram.com/p/CQnUq6bBjuv/\"\n",
    "\n",
    "driver.get(instagram_url)\n",
    "instagram_page = driver.page_source\n",
    "instagram_soup = BeautifulSoup(instagram_page, 'lxml')"
   ]
  },
  {
   "cell_type": "code",
   "execution_count": 30,
   "metadata": {},
   "outputs": [
    {
     "data": {
      "text/plain": [
       "'좋아요 1,059개'"
      ]
     },
     "execution_count": 30,
     "metadata": {},
     "output_type": "execute_result"
    }
   ],
   "source": [
    "instagram_soup.find_all(attrs={'class':'Nm9Fw'})[0].text"
   ]
  },
  {
   "cell_type": "markdown",
   "metadata": {},
   "source": [
    "## Selenium을 이용한 melon 페이지 크롤링"
   ]
  },
  {
   "cell_type": "code",
   "execution_count": 2,
   "metadata": {},
   "outputs": [],
   "source": [
    "import selenium.webdriver as webdriver\n",
    "from bs4 import BeautifulSoup\n",
    "from time import sleep\n",
    "import requests\n",
    "import datetime\n",
    "\n",
    "import pandas as pd\n",
    "from tqdm import tqdm"
   ]
  },
  {
   "cell_type": "code",
   "execution_count": 3,
   "metadata": {},
   "outputs": [],
   "source": [
    "## 멜론 실시간 차트가 보여지는 url, 사파리로 접속한 header\n",
    "url = \"https://www.melon.com/chart/index.htm\"\n",
    "headers = {\"user-agent\": \"Mozilla/5.0 (Macintosh; Intel Mac OS X 10_15_7) AppleWebKit/605.1.15 (KHTML, like Gecko) Version/14.1.1 Safari/605.1.15\"}\n",
    "\n",
    "r = requests.get(url, headers=headers)\n",
    "soup = BeautifulSoup(r.text, 'html.parser')"
   ]
  },
  {
   "cell_type": "code",
   "execution_count": 4,
   "metadata": {},
   "outputs": [],
   "source": [
    "## 크롤링을 실행할 드라이버\n",
    "driver = webdriver.Chrome('chromedriver')"
   ]
  },
  {
   "cell_type": "code",
   "execution_count": 8,
   "metadata": {},
   "outputs": [],
   "source": [
    "def get_table(soup):\n",
    "    table = soup.find(\"table\", {\"border\": 1})\n",
    "    song_ids = [e['data-song-no'] for e in table.find_all(\"tr\")[1:]]\n",
    "    return song_ids\n"
   ]
  },
  {
   "cell_type": "code",
   "execution_count": 9,
   "metadata": {},
   "outputs": [],
   "source": [
    "class song_page():\n",
    "    \n",
    "    def __init__(self, id):\n",
    "        self.id = id\n",
    "\n",
    "    def get_page(self):\n",
    "        url = f\"https://www.melon.com/song/detail.htm?songId={self.id}\"\n",
    "        self.url = url\n",
    "\n",
    "        driver.get(url)\n",
    "        song_page = driver.page_source\n",
    "        song_soup = BeautifulSoup(song_page, 'lxml')\n",
    "        self.soup = song_soup\n",
    "\n",
    "    def get_name(self):\n",
    "        self.name = self.soup.find(attrs={'class':'song_name'}).contents[2].strip()\n",
    "\n",
    "    def get_artist(self):\n",
    "        self.artist = self.soup.find(attrs={'class':'artist_name'}).text\n",
    "\n",
    "    def get_album(self):\n",
    "        self.album = self.soup.find(attrs={'class':'list'}).contents[3].text\n",
    "\n",
    "    def get_released(self):\n",
    "        self.released = self.soup.find(attrs={'class':'list'}).contents[7].text\n",
    "\n",
    "    def get_likes(self):\n",
    "        self.likes = self.soup.find(attrs={'class':'cnt'}).text\n",
    "\n",
    "    def get_comments(self):\n",
    "        self.comments = self.soup.find(attrs={'id':'revCnt'}).text\n",
    "\n",
    "    def get_now(self):\n",
    "        self.now = datetime.datetime.now()\n",
    "\n",
    "    def set_attributes(self):\n",
    "        self.get_page()\n",
    "\n",
    "        self.get_name()\n",
    "        self.get_artist()\n",
    "        self.get_album()\n",
    "        self.get_released()\n",
    "        self.get_likes()\n",
    "        self.get_comments()\n",
    "        self.get_now()\n",
    "\n",
    "    def get_attributes(self):\n",
    "        return (self.id,\n",
    "                self.name, \n",
    "                self.artist,\n",
    "                self.album,\n",
    "                self.released,\n",
    "                self.likes,\n",
    "                self.comments,\n",
    "                self.now)\n"
   ]
  },
  {
   "cell_type": "code",
   "execution_count": 12,
   "metadata": {},
   "outputs": [
    {
     "name": "stderr",
     "output_type": "stream",
     "text": [
      "100%|██████████| 100/100 [04:17<00:00,  2.57s/it]\n"
     ]
    }
   ],
   "source": [
    "table = get_table(soup)\n",
    "song_info = []\n",
    "\n",
    "for song_id in tqdm(table):\n",
    "\n",
    "    page = song_page(song_id)\n",
    "    page.set_attributes()\n",
    "    song_info.append(page.get_attributes())"
   ]
  },
  {
   "cell_type": "code",
   "execution_count": 13,
   "metadata": {},
   "outputs": [],
   "source": [
    "df = pd.DataFrame(song_info, \n",
    "                  columns=['id', 'name', 'artist', 'album', 'released date', 'likes', 'comments', 'time(now)'])"
   ]
  },
  {
   "cell_type": "code",
   "execution_count": 14,
   "metadata": {},
   "outputs": [
    {
     "data": {
      "text/html": [
       "<div>\n",
       "<style scoped>\n",
       "    .dataframe tbody tr th:only-of-type {\n",
       "        vertical-align: middle;\n",
       "    }\n",
       "\n",
       "    .dataframe tbody tr th {\n",
       "        vertical-align: top;\n",
       "    }\n",
       "\n",
       "    .dataframe thead th {\n",
       "        text-align: right;\n",
       "    }\n",
       "</style>\n",
       "<table border=\"1\" class=\"dataframe\">\n",
       "  <thead>\n",
       "    <tr style=\"text-align: right;\">\n",
       "      <th></th>\n",
       "      <th>id</th>\n",
       "      <th>name</th>\n",
       "      <th>artist</th>\n",
       "      <th>album</th>\n",
       "      <th>released date</th>\n",
       "      <th>likes</th>\n",
       "      <th>comments</th>\n",
       "      <th>time(now)</th>\n",
       "    </tr>\n",
       "  </thead>\n",
       "  <tbody>\n",
       "    <tr>\n",
       "      <th>0</th>\n",
       "      <td>33625988</td>\n",
       "      <td>바라만 본다</td>\n",
       "      <td>MSG워너비(M.O.M)</td>\n",
       "      <td>MSG워너비 1집</td>\n",
       "      <td>2021.06.26</td>\n",
       "      <td>62,720</td>\n",
       "      <td>1,324개</td>\n",
       "      <td>2021-06-30 22:04:35.335551</td>\n",
       "    </tr>\n",
       "    <tr>\n",
       "      <th>1</th>\n",
       "      <td>33487342</td>\n",
       "      <td>Next Level</td>\n",
       "      <td>aespa</td>\n",
       "      <td>Next Level</td>\n",
       "      <td>2021.05.17</td>\n",
       "      <td>144,485</td>\n",
       "      <td>5,552개</td>\n",
       "      <td>2021-06-30 22:04:38.730738</td>\n",
       "    </tr>\n",
       "    <tr>\n",
       "      <th>2</th>\n",
       "      <td>33625989</td>\n",
       "      <td>나를 아는 사람</td>\n",
       "      <td>MSG워너비(정상동기)</td>\n",
       "      <td>MSG워너비 1집</td>\n",
       "      <td>2021.06.26</td>\n",
       "      <td>45,816</td>\n",
       "      <td>674개</td>\n",
       "      <td>2021-06-30 22:04:40.620221</td>\n",
       "    </tr>\n",
       "    <tr>\n",
       "      <th>3</th>\n",
       "      <td>33507137</td>\n",
       "      <td>Butter</td>\n",
       "      <td>방탄소년단</td>\n",
       "      <td>Butter</td>\n",
       "      <td>2021.05.21</td>\n",
       "      <td>211,632</td>\n",
       "      <td>7,862개</td>\n",
       "      <td>2021-06-30 22:04:42.566051</td>\n",
       "    </tr>\n",
       "    <tr>\n",
       "      <th>4</th>\n",
       "      <td>33503722</td>\n",
       "      <td>헤픈 우연</td>\n",
       "      <td>헤이즈 (Heize)</td>\n",
       "      <td>HAPPEN</td>\n",
       "      <td>2021.05.20</td>\n",
       "      <td>113,926</td>\n",
       "      <td>712개</td>\n",
       "      <td>2021-06-30 22:04:44.221939</td>\n",
       "    </tr>\n",
       "    <tr>\n",
       "      <th>...</th>\n",
       "      <td>...</td>\n",
       "      <td>...</td>\n",
       "      <td>...</td>\n",
       "      <td>...</td>\n",
       "      <td>...</td>\n",
       "      <td>...</td>\n",
       "      <td>...</td>\n",
       "      <td>...</td>\n",
       "    </tr>\n",
       "    <tr>\n",
       "      <th>95</th>\n",
       "      <td>30773554</td>\n",
       "      <td>Downtown Baby</td>\n",
       "      <td>블루 (BLOO)</td>\n",
       "      <td>Downtown Baby</td>\n",
       "      <td>2017.12.06</td>\n",
       "      <td>188,652</td>\n",
       "      <td>2,994개</td>\n",
       "      <td>2021-06-30 22:08:42.284209</td>\n",
       "    </tr>\n",
       "    <tr>\n",
       "      <th>96</th>\n",
       "      <td>32122539</td>\n",
       "      <td>Maniac</td>\n",
       "      <td>Conan Gray</td>\n",
       "      <td>Maniac</td>\n",
       "      <td>2019.10.25</td>\n",
       "      <td>132,492</td>\n",
       "      <td>370개</td>\n",
       "      <td>2021-06-30 22:08:44.196134</td>\n",
       "    </tr>\n",
       "    <tr>\n",
       "      <th>97</th>\n",
       "      <td>33260801</td>\n",
       "      <td>고백 (바른연애 길잡이 X 허각)</td>\n",
       "      <td>허각</td>\n",
       "      <td>고백 (바른연애 길잡이 X 허각)</td>\n",
       "      <td>2021.02.04</td>\n",
       "      <td>36,856</td>\n",
       "      <td>79개</td>\n",
       "      <td>2021-06-30 22:08:45.416592</td>\n",
       "    </tr>\n",
       "    <tr>\n",
       "      <th>98</th>\n",
       "      <td>31984204</td>\n",
       "      <td>안녕</td>\n",
       "      <td>폴킴</td>\n",
       "      <td>호텔 델루나 OST Part.10</td>\n",
       "      <td>2019.08.12</td>\n",
       "      <td>192,409</td>\n",
       "      <td>524개</td>\n",
       "      <td>2021-06-30 22:08:47.941744</td>\n",
       "    </tr>\n",
       "    <tr>\n",
       "      <th>99</th>\n",
       "      <td>33430095</td>\n",
       "      <td>기다릴게</td>\n",
       "      <td>하동균</td>\n",
       "      <td>기다릴게</td>\n",
       "      <td>2021.04.22</td>\n",
       "      <td>20,915</td>\n",
       "      <td>78개</td>\n",
       "      <td>2021-06-30 22:08:49.124546</td>\n",
       "    </tr>\n",
       "  </tbody>\n",
       "</table>\n",
       "<p>100 rows × 8 columns</p>\n",
       "</div>"
      ],
      "text/plain": [
       "          id                name         artist               album  \\\n",
       "0   33625988              바라만 본다  MSG워너비(M.O.M)           MSG워너비 1집   \n",
       "1   33487342          Next Level          aespa          Next Level   \n",
       "2   33625989            나를 아는 사람   MSG워너비(정상동기)           MSG워너비 1집   \n",
       "3   33507137              Butter          방탄소년단              Butter   \n",
       "4   33503722               헤픈 우연    헤이즈 (Heize)              HAPPEN   \n",
       "..       ...                 ...            ...                 ...   \n",
       "95  30773554       Downtown Baby      블루 (BLOO)       Downtown Baby   \n",
       "96  32122539              Maniac     Conan Gray              Maniac   \n",
       "97  33260801  고백 (바른연애 길잡이 X 허각)             허각  고백 (바른연애 길잡이 X 허각)   \n",
       "98  31984204                  안녕             폴킴  호텔 델루나 OST Part.10   \n",
       "99  33430095                기다릴게            하동균                기다릴게   \n",
       "\n",
       "   released date    likes comments                  time(now)  \n",
       "0     2021.06.26   62,720   1,324개 2021-06-30 22:04:35.335551  \n",
       "1     2021.05.17  144,485   5,552개 2021-06-30 22:04:38.730738  \n",
       "2     2021.06.26   45,816     674개 2021-06-30 22:04:40.620221  \n",
       "3     2021.05.21  211,632   7,862개 2021-06-30 22:04:42.566051  \n",
       "4     2021.05.20  113,926     712개 2021-06-30 22:04:44.221939  \n",
       "..           ...      ...      ...                        ...  \n",
       "95    2017.12.06  188,652   2,994개 2021-06-30 22:08:42.284209  \n",
       "96    2019.10.25  132,492     370개 2021-06-30 22:08:44.196134  \n",
       "97    2021.02.04   36,856      79개 2021-06-30 22:08:45.416592  \n",
       "98    2019.08.12  192,409     524개 2021-06-30 22:08:47.941744  \n",
       "99    2021.04.22   20,915      78개 2021-06-30 22:08:49.124546  \n",
       "\n",
       "[100 rows x 8 columns]"
      ]
     },
     "execution_count": 14,
     "metadata": {},
     "output_type": "execute_result"
    }
   ],
   "source": [
    "df"
   ]
  },
  {
   "cell_type": "markdown",
   "metadata": {},
   "source": [
    "### for test"
   ]
  },
  {
   "cell_type": "code",
   "execution_count": 11,
   "metadata": {},
   "outputs": [
    {
     "name": "stdout",
     "output_type": "stream",
     "text": [
      "('33625988', '바라만 본다', 'MSG워너비(M.O.M)', 'MSG워너비 1집', '2021.06.26', '62,720', '1,324개', datetime.datetime(2021, 6, 30, 22, 4, 21, 263901))\n"
     ]
    }
   ],
   "source": [
    "table = get_table(soup)\n",
    "page = song_page(table[0])\n",
    "page.set_attributes()\n",
    "print(page.get_attributes())"
   ]
  },
  {
   "cell_type": "code",
   "execution_count": null,
   "metadata": {},
   "outputs": [],
   "source": []
  }
 ],
 "metadata": {
  "interpreter": {
   "hash": "8235b21b7e4ccb1a631c75a86bc50b1a38dfb6faace30e871c40999987116d9b"
  },
  "kernelspec": {
   "display_name": "Python 3 (ipykernel)",
   "language": "python",
   "name": "python3"
  },
  "language_info": {
   "codemirror_mode": {
    "name": "ipython",
    "version": 3
   },
   "file_extension": ".py",
   "mimetype": "text/x-python",
   "name": "python",
   "nbconvert_exporter": "python",
   "pygments_lexer": "ipython3",
   "version": "3.8.10"
  }
 },
 "nbformat": 4,
 "nbformat_minor": 2
}
