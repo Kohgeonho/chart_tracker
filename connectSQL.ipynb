{
 "cells": [
  {
   "cell_type": "code",
   "execution_count": 7,
   "id": "f7c0301d",
   "metadata": {},
   "outputs": [],
   "source": [
    "import mysql.connector\n",
    "\n",
    "chartdb = mysql.connector.connect(\n",
    "    host = \"songdb.ck45skw5jvl2.ap-northeast-2.rds.amazonaws.com\",\n",
    "    user = \"geonho_sojeong\",\n",
    "    password = \"geonho&sojeong\",\n",
    "    database = \"chart\"\n",
    ")\n",
    "\n",
    "cursor = chartdb.cursor()"
   ]
  },
  {
   "cell_type": "code",
   "execution_count": 9,
   "id": "eba865c0",
   "metadata": {},
   "outputs": [
    {
     "data": {
      "text/plain": [
       "[(datetime.datetime(2021, 7, 1, 17, 0), '93619160', 1),\n",
       " (datetime.datetime(2021, 7, 1, 17, 0), '93569588', 2),\n",
       " (datetime.datetime(2017, 7, 1, 17, 0), '93619161', 3),\n",
       " (datetime.datetime(2021, 7, 1, 17, 0), '93330349', 4),\n",
       " (datetime.datetime(2021, 7, 1, 17, 0), '93300145', 5)]"
      ]
     },
     "execution_count": 9,
     "metadata": {},
     "output_type": "execute_result"
    }
   ],
   "source": [
    "cursor.execute('''SELECT  *\n",
    "                  FROM    dailychart\n",
    "                ''')\n",
    "\n",
    "result = cursor.fetchall()\n",
    "result"
   ]
  },
  {
   "cell_type": "code",
   "execution_count": null,
   "id": "9efc5cb5",
   "metadata": {},
   "outputs": [],
   "source": []
  }
 ],
 "metadata": {
  "kernelspec": {
   "display_name": "Python 3 (ipykernel)",
   "language": "python",
   "name": "python3"
  },
  "language_info": {
   "codemirror_mode": {
    "name": "ipython",
    "version": 3
   },
   "file_extension": ".py",
   "mimetype": "text/x-python",
   "name": "python",
   "nbconvert_exporter": "python",
   "pygments_lexer": "ipython3",
   "version": "3.8.10"
  }
 },
 "nbformat": 4,
 "nbformat_minor": 5
}
