{
 "cells": [
  {
   "cell_type": "code",
   "execution_count": 1,
   "id": "f7c0301d",
   "metadata": {},
   "outputs": [],
   "source": [
    "import mysql.connector\n",
    "\n",
    "chartdb = mysql.connector.connect(\n",
    "    host = \"songdb.ck45skw5jvl2.ap-northeast-2.rds.amazonaws.com\",\n",
    "    user = \"geonho_sojeong\",\n",
    "    password = \"geonho&sojeong\",\n",
    "    database = \"chart\"\n",
    ")\n",
    "\n",
    "cursor = chartdb.cursor()"
   ]
  },
  {
   "cell_type": "code",
   "execution_count": null,
   "id": "eba865c0",
   "metadata": {},
   "outputs": [],
   "source": []
  }
 ],
 "metadata": {
  "kernelspec": {
   "display_name": "Python 3 (ipykernel)",
   "language": "python",
   "name": "python3"
  },
  "language_info": {
   "codemirror_mode": {
    "name": "ipython",
    "version": 3
   },
   "file_extension": ".py",
   "mimetype": "text/x-python",
   "name": "python",
   "nbconvert_exporter": "python",
   "pygments_lexer": "ipython3",
   "version": "3.8.10"
  }
 },
 "nbformat": 4,
 "nbformat_minor": 5
}
